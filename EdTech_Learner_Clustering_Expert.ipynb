{
  "cells": [
    {
      "cell_type": "markdown",
      "metadata": {
        "id": "view-in-github",
        "colab_type": "text"
      },
      "source": [
        "<a href=\"https://colab.research.google.com/github/manan-garg/EdTech_Learner_Clustering_Expert/blob/main/EdTech_Learner_Clustering_Expert.ipynb\" target=\"_parent\"><img src=\"https://colab.research.google.com/assets/colab-badge.svg\" alt=\"Open In Colab\"/></a>"
      ]
    },
    {
      "cell_type": "markdown",
      "id": "1261e3a0",
      "metadata": {
        "id": "1261e3a0"
      },
      "source": [
        "### Problem Statement:\n",
        "\n",
        "Cluster learner profiles for similar characteristics based on job profile, company, and other features to understand groups of learners falling into similar category so that their upskilling capacity can be figured out."
      ]
    },
    {
      "cell_type": "code",
      "execution_count": null,
      "id": "cad7937f",
      "metadata": {
        "id": "cad7937f"
      },
      "outputs": [],
      "source": [
        "# Importing libraries -\n",
        "import numpy as np\n",
        "import pandas as pd\n",
        "from sklearn.impute import KNNImputer\n",
        "from sklearn.preprocessing import StandardScaler\n",
        "from pyclustertend import hopkins\n",
        "from sklearn.cluster import KMeans\n",
        "from sklearn.manifold import TSNE\n",
        "from scipy.spatial.distance import cdist\n",
        "from sklearn import metrics\n",
        "from sklearn.cluster import AgglomerativeClustering\n",
        "from scipy.cluster.hierarchy import dendrogram\n",
        "from scipy.cluster import hierarchy\n",
        "from datetime import date\n",
        "import matplotlib.pyplot as plt\n",
        "import seaborn as sns\n",
        "import warnings\n",
        "warnings.filterwarnings('ignore')"
      ]
    },
    {
      "cell_type": "code",
      "execution_count": null,
      "id": "964ba3b1",
      "metadata": {
        "id": "964ba3b1",
        "outputId": "37ab55dd-2865-4c49-e1b1-c2a62b8f4daa"
      },
      "outputs": [
        {
          "data": {
            "text/html": [
              "<div>\n",
              "<style scoped>\n",
              "    .dataframe tbody tr th:only-of-type {\n",
              "        vertical-align: middle;\n",
              "    }\n",
              "\n",
              "    .dataframe tbody tr th {\n",
              "        vertical-align: top;\n",
              "    }\n",
              "\n",
              "    .dataframe thead th {\n",
              "        text-align: right;\n",
              "    }\n",
              "</style>\n",
              "<table border=\"1\" class=\"dataframe\">\n",
              "  <thead>\n",
              "    <tr style=\"text-align: right;\">\n",
              "      <th></th>\n",
              "      <th>Unnamed: 0</th>\n",
              "      <th>company_hash</th>\n",
              "      <th>email_hash</th>\n",
              "      <th>orgyear</th>\n",
              "      <th>ctc</th>\n",
              "      <th>job_position</th>\n",
              "      <th>ctc_updated_year</th>\n",
              "    </tr>\n",
              "  </thead>\n",
              "  <tbody>\n",
              "    <tr>\n",
              "      <th>0</th>\n",
              "      <td>0</td>\n",
              "      <td>atrgxnnt xzaxv</td>\n",
              "      <td>6de0a4417d18ab14334c3f43397fc13b30c35149d70c05...</td>\n",
              "      <td>2016.0</td>\n",
              "      <td>1100000</td>\n",
              "      <td>Other</td>\n",
              "      <td>2020.0</td>\n",
              "    </tr>\n",
              "    <tr>\n",
              "      <th>1</th>\n",
              "      <td>1</td>\n",
              "      <td>qtrxvzwt xzegwgbb rxbxnta</td>\n",
              "      <td>b0aaf1ac138b53cb6e039ba2c3d6604a250d02d5145c10...</td>\n",
              "      <td>2018.0</td>\n",
              "      <td>449999</td>\n",
              "      <td>FullStack Engineer</td>\n",
              "      <td>2019.0</td>\n",
              "    </tr>\n",
              "    <tr>\n",
              "      <th>2</th>\n",
              "      <td>2</td>\n",
              "      <td>ojzwnvwnxw vx</td>\n",
              "      <td>4860c670bcd48fb96c02a4b0ae3608ae6fdd98176112e9...</td>\n",
              "      <td>2015.0</td>\n",
              "      <td>2000000</td>\n",
              "      <td>Backend Engineer</td>\n",
              "      <td>2020.0</td>\n",
              "    </tr>\n",
              "    <tr>\n",
              "      <th>3</th>\n",
              "      <td>3</td>\n",
              "      <td>ngpgutaxv</td>\n",
              "      <td>effdede7a2e7c2af664c8a31d9346385016128d66bbc58...</td>\n",
              "      <td>2017.0</td>\n",
              "      <td>700000</td>\n",
              "      <td>Backend Engineer</td>\n",
              "      <td>2019.0</td>\n",
              "    </tr>\n",
              "    <tr>\n",
              "      <th>4</th>\n",
              "      <td>4</td>\n",
              "      <td>qxen sqghu</td>\n",
              "      <td>6ff54e709262f55cb999a1c1db8436cb2055d8f79ab520...</td>\n",
              "      <td>2017.0</td>\n",
              "      <td>1400000</td>\n",
              "      <td>FullStack Engineer</td>\n",
              "      <td>2019.0</td>\n",
              "    </tr>\n",
              "  </tbody>\n",
              "</table>\n",
              "</div>"
            ],
            "text/plain": [
              "   Unnamed: 0               company_hash  \\\n",
              "0           0             atrgxnnt xzaxv   \n",
              "1           1  qtrxvzwt xzegwgbb rxbxnta   \n",
              "2           2              ojzwnvwnxw vx   \n",
              "3           3                  ngpgutaxv   \n",
              "4           4                 qxen sqghu   \n",
              "\n",
              "                                          email_hash  orgyear      ctc  \\\n",
              "0  6de0a4417d18ab14334c3f43397fc13b30c35149d70c05...   2016.0  1100000   \n",
              "1  b0aaf1ac138b53cb6e039ba2c3d6604a250d02d5145c10...   2018.0   449999   \n",
              "2  4860c670bcd48fb96c02a4b0ae3608ae6fdd98176112e9...   2015.0  2000000   \n",
              "3  effdede7a2e7c2af664c8a31d9346385016128d66bbc58...   2017.0   700000   \n",
              "4  6ff54e709262f55cb999a1c1db8436cb2055d8f79ab520...   2017.0  1400000   \n",
              "\n",
              "         job_position  ctc_updated_year  \n",
              "0               Other            2020.0  \n",
              "1  FullStack Engineer            2019.0  \n",
              "2    Backend Engineer            2020.0  \n",
              "3    Backend Engineer            2019.0  \n",
              "4  FullStack Engineer            2019.0  "
            ]
          },
          "execution_count": 373,
          "metadata": {},
          "output_type": "execute_result"
        }
      ],
      "source": [
        "# Loading the dataset -\n",
        "df = pd.read_csv(r'scaler_clustering.csv')\n",
        "df.head()"
      ]
    },
    {
      "cell_type": "code",
      "execution_count": null,
      "id": "32678a19",
      "metadata": {
        "id": "32678a19",
        "outputId": "a150d0a2-799e-4fac-f697-73d05ebc3e85"
      },
      "outputs": [
        {
          "data": {
            "text/html": [
              "<div>\n",
              "<style scoped>\n",
              "    .dataframe tbody tr th:only-of-type {\n",
              "        vertical-align: middle;\n",
              "    }\n",
              "\n",
              "    .dataframe tbody tr th {\n",
              "        vertical-align: top;\n",
              "    }\n",
              "\n",
              "    .dataframe thead th {\n",
              "        text-align: right;\n",
              "    }\n",
              "</style>\n",
              "<table border=\"1\" class=\"dataframe\">\n",
              "  <thead>\n",
              "    <tr style=\"text-align: right;\">\n",
              "      <th></th>\n",
              "      <th>company_hash</th>\n",
              "      <th>email_hash</th>\n",
              "      <th>orgyear</th>\n",
              "      <th>ctc</th>\n",
              "      <th>job_position</th>\n",
              "      <th>ctc_updated_year</th>\n",
              "    </tr>\n",
              "  </thead>\n",
              "  <tbody>\n",
              "    <tr>\n",
              "      <th>0</th>\n",
              "      <td>atrgxnnt xzaxv</td>\n",
              "      <td>6de0a4417d18ab14334c3f43397fc13b30c35149d70c05...</td>\n",
              "      <td>2016.0</td>\n",
              "      <td>1100000</td>\n",
              "      <td>Other</td>\n",
              "      <td>2020.0</td>\n",
              "    </tr>\n",
              "    <tr>\n",
              "      <th>1</th>\n",
              "      <td>qtrxvzwt xzegwgbb rxbxnta</td>\n",
              "      <td>b0aaf1ac138b53cb6e039ba2c3d6604a250d02d5145c10...</td>\n",
              "      <td>2018.0</td>\n",
              "      <td>449999</td>\n",
              "      <td>FullStack Engineer</td>\n",
              "      <td>2019.0</td>\n",
              "    </tr>\n",
              "    <tr>\n",
              "      <th>2</th>\n",
              "      <td>ojzwnvwnxw vx</td>\n",
              "      <td>4860c670bcd48fb96c02a4b0ae3608ae6fdd98176112e9...</td>\n",
              "      <td>2015.0</td>\n",
              "      <td>2000000</td>\n",
              "      <td>Backend Engineer</td>\n",
              "      <td>2020.0</td>\n",
              "    </tr>\n",
              "    <tr>\n",
              "      <th>3</th>\n",
              "      <td>ngpgutaxv</td>\n",
              "      <td>effdede7a2e7c2af664c8a31d9346385016128d66bbc58...</td>\n",
              "      <td>2017.0</td>\n",
              "      <td>700000</td>\n",
              "      <td>Backend Engineer</td>\n",
              "      <td>2019.0</td>\n",
              "    </tr>\n",
              "    <tr>\n",
              "      <th>4</th>\n",
              "      <td>qxen sqghu</td>\n",
              "      <td>6ff54e709262f55cb999a1c1db8436cb2055d8f79ab520...</td>\n",
              "      <td>2017.0</td>\n",
              "      <td>1400000</td>\n",
              "      <td>FullStack Engineer</td>\n",
              "      <td>2019.0</td>\n",
              "    </tr>\n",
              "  </tbody>\n",
              "</table>\n",
              "</div>"
            ],
            "text/plain": [
              "                company_hash  \\\n",
              "0             atrgxnnt xzaxv   \n",
              "1  qtrxvzwt xzegwgbb rxbxnta   \n",
              "2              ojzwnvwnxw vx   \n",
              "3                  ngpgutaxv   \n",
              "4                 qxen sqghu   \n",
              "\n",
              "                                          email_hash  orgyear      ctc  \\\n",
              "0  6de0a4417d18ab14334c3f43397fc13b30c35149d70c05...   2016.0  1100000   \n",
              "1  b0aaf1ac138b53cb6e039ba2c3d6604a250d02d5145c10...   2018.0   449999   \n",
              "2  4860c670bcd48fb96c02a4b0ae3608ae6fdd98176112e9...   2015.0  2000000   \n",
              "3  effdede7a2e7c2af664c8a31d9346385016128d66bbc58...   2017.0   700000   \n",
              "4  6ff54e709262f55cb999a1c1db8436cb2055d8f79ab520...   2017.0  1400000   \n",
              "\n",
              "         job_position  ctc_updated_year  \n",
              "0               Other            2020.0  \n",
              "1  FullStack Engineer            2019.0  \n",
              "2    Backend Engineer            2020.0  \n",
              "3    Backend Engineer            2019.0  \n",
              "4  FullStack Engineer            2019.0  "
            ]
          },
          "execution_count": 374,
          "metadata": {},
          "output_type": "execute_result"
        }
      ],
      "source": [
        "# Dropping unwanted column\n",
        "df.drop('Unnamed: 0', axis=1, inplace=True)\n",
        "df.head()"
      ]
    },
    {
      "cell_type": "markdown",
      "id": "f1185da1",
      "metadata": {
        "id": "f1185da1"
      },
      "source": [
        "### Basic Metrics"
      ]
    },
    {
      "cell_type": "code",
      "execution_count": null,
      "id": "da831160",
      "metadata": {
        "id": "da831160",
        "outputId": "29c79651-3cbc-43dc-e2f3-7b05fe2bba53"
      },
      "outputs": [
        {
          "data": {
            "text/plain": [
              "(205843, 6)"
            ]
          },
          "execution_count": 375,
          "metadata": {},
          "output_type": "execute_result"
        }
      ],
      "source": [
        "# Shape of the dataset -\n",
        "df.shape"
      ]
    },
    {
      "cell_type": "code",
      "execution_count": null,
      "id": "745f3920",
      "metadata": {
        "id": "745f3920",
        "outputId": "67cf789f-6ccf-42c3-9337-6e41e44b222b"
      },
      "outputs": [
        {
          "name": "stdout",
          "output_type": "stream",
          "text": [
            "<class 'pandas.core.frame.DataFrame'>\n",
            "RangeIndex: 205843 entries, 0 to 205842\n",
            "Data columns (total 6 columns):\n",
            " #   Column            Non-Null Count   Dtype  \n",
            "---  ------            --------------   -----  \n",
            " 0   company_hash      205799 non-null  object \n",
            " 1   email_hash        205843 non-null  object \n",
            " 2   orgyear           205757 non-null  float64\n",
            " 3   ctc               205843 non-null  int64  \n",
            " 4   job_position      153281 non-null  object \n",
            " 5   ctc_updated_year  205843 non-null  float64\n",
            "dtypes: float64(2), int64(1), object(3)\n",
            "memory usage: 9.4+ MB\n"
          ]
        }
      ],
      "source": [
        "# basic info about the dataset\n",
        "df.info()"
      ]
    },
    {
      "cell_type": "code",
      "execution_count": null,
      "id": "d4020d78",
      "metadata": {
        "id": "d4020d78",
        "outputId": "adeb1255-057d-40e4-be1e-194b72495207"
      },
      "outputs": [
        {
          "data": {
            "text/plain": [
              "company_hash         object\n",
              "email_hash           object\n",
              "orgyear             float64\n",
              "ctc                   int64\n",
              "job_position         object\n",
              "ctc_updated_year    float64\n",
              "dtype: object"
            ]
          },
          "execution_count": 377,
          "metadata": {},
          "output_type": "execute_result"
        }
      ],
      "source": [
        "# Checking data types -\n",
        "df.dtypes"
      ]
    },
    {
      "cell_type": "code",
      "execution_count": null,
      "id": "6a58abac",
      "metadata": {
        "id": "6a58abac",
        "outputId": "a5f91bb9-08a3-4756-c478-01c7122deaff"
      },
      "outputs": [
        {
          "data": {
            "text/html": [
              "<div>\n",
              "<style scoped>\n",
              "    .dataframe tbody tr th:only-of-type {\n",
              "        vertical-align: middle;\n",
              "    }\n",
              "\n",
              "    .dataframe tbody tr th {\n",
              "        vertical-align: top;\n",
              "    }\n",
              "\n",
              "    .dataframe thead th {\n",
              "        text-align: right;\n",
              "    }\n",
              "</style>\n",
              "<table border=\"1\" class=\"dataframe\">\n",
              "  <thead>\n",
              "    <tr style=\"text-align: right;\">\n",
              "      <th></th>\n",
              "      <th>orgyear</th>\n",
              "      <th>ctc</th>\n",
              "      <th>ctc_updated_year</th>\n",
              "    </tr>\n",
              "  </thead>\n",
              "  <tbody>\n",
              "    <tr>\n",
              "      <th>count</th>\n",
              "      <td>205757.000000</td>\n",
              "      <td>2.058430e+05</td>\n",
              "      <td>205843.000000</td>\n",
              "    </tr>\n",
              "    <tr>\n",
              "      <th>mean</th>\n",
              "      <td>2014.882750</td>\n",
              "      <td>2.271685e+06</td>\n",
              "      <td>2019.628231</td>\n",
              "    </tr>\n",
              "    <tr>\n",
              "      <th>std</th>\n",
              "      <td>63.571115</td>\n",
              "      <td>1.180091e+07</td>\n",
              "      <td>1.325104</td>\n",
              "    </tr>\n",
              "    <tr>\n",
              "      <th>min</th>\n",
              "      <td>0.000000</td>\n",
              "      <td>2.000000e+00</td>\n",
              "      <td>2015.000000</td>\n",
              "    </tr>\n",
              "    <tr>\n",
              "      <th>25%</th>\n",
              "      <td>2013.000000</td>\n",
              "      <td>5.300000e+05</td>\n",
              "      <td>2019.000000</td>\n",
              "    </tr>\n",
              "    <tr>\n",
              "      <th>50%</th>\n",
              "      <td>2016.000000</td>\n",
              "      <td>9.500000e+05</td>\n",
              "      <td>2020.000000</td>\n",
              "    </tr>\n",
              "    <tr>\n",
              "      <th>75%</th>\n",
              "      <td>2018.000000</td>\n",
              "      <td>1.700000e+06</td>\n",
              "      <td>2021.000000</td>\n",
              "    </tr>\n",
              "    <tr>\n",
              "      <th>max</th>\n",
              "      <td>20165.000000</td>\n",
              "      <td>1.000150e+09</td>\n",
              "      <td>2021.000000</td>\n",
              "    </tr>\n",
              "  </tbody>\n",
              "</table>\n",
              "</div>"
            ],
            "text/plain": [
              "             orgyear           ctc  ctc_updated_year\n",
              "count  205757.000000  2.058430e+05     205843.000000\n",
              "mean     2014.882750  2.271685e+06       2019.628231\n",
              "std        63.571115  1.180091e+07          1.325104\n",
              "min         0.000000  2.000000e+00       2015.000000\n",
              "25%      2013.000000  5.300000e+05       2019.000000\n",
              "50%      2016.000000  9.500000e+05       2020.000000\n",
              "75%      2018.000000  1.700000e+06       2021.000000\n",
              "max     20165.000000  1.000150e+09       2021.000000"
            ]
          },
          "execution_count": 378,
          "metadata": {},
          "output_type": "execute_result"
        }
      ],
      "source": [
        "#statistical summary\n",
        "df.describe()"
      ]
    },
    {
      "cell_type": "markdown",
      "id": "cc76f361",
      "metadata": {
        "id": "cc76f361"
      },
      "source": [
        "### Cleaning Data - Regex"
      ]
    },
    {
      "cell_type": "code",
      "execution_count": null,
      "id": "c6dcf70a",
      "metadata": {
        "id": "c6dcf70a"
      },
      "outputs": [],
      "source": [
        "for i in ['company_hash','email_hash','job_position']:\n",
        "    df[i] = df[i].str.lower()\n",
        "    df[i] = df[i].replace('[^A-Za-z0-9 ]+', '',regex=True)"
      ]
    },
    {
      "cell_type": "markdown",
      "id": "a239a36f",
      "metadata": {
        "id": "a239a36f"
      },
      "source": [
        "### Missing Values Treatment"
      ]
    },
    {
      "cell_type": "code",
      "execution_count": null,
      "id": "c7948627",
      "metadata": {
        "id": "c7948627",
        "outputId": "c85790ca-903d-4bc4-b07a-244b94ceb849"
      },
      "outputs": [
        {
          "data": {
            "text/plain": [
              "company_hash           44\n",
              "email_hash              0\n",
              "orgyear                86\n",
              "ctc                     0\n",
              "job_position        52562\n",
              "ctc_updated_year        0\n",
              "dtype: int64"
            ]
          },
          "execution_count": 380,
          "metadata": {},
          "output_type": "execute_result"
        }
      ],
      "source": [
        "#Checking which columns have null values\n",
        "df.isnull().sum()"
      ]
    },
    {
      "cell_type": "markdown",
      "id": "53269570",
      "metadata": {
        "id": "53269570"
      },
      "source": [
        "#### Company_hash"
      ]
    },
    {
      "cell_type": "code",
      "execution_count": null,
      "id": "160ce209",
      "metadata": {
        "id": "160ce209"
      },
      "outputs": [],
      "source": [
        "# Imputing with mode\n",
        "df['company_hash'] = df['company_hash'].fillna(df['company_hash'].mode()[0])"
      ]
    },
    {
      "cell_type": "code",
      "execution_count": null,
      "id": "41cdcf09",
      "metadata": {
        "id": "41cdcf09",
        "outputId": "853e4eed-2c11-4fb6-fa3d-58099c5b1b94"
      },
      "outputs": [
        {
          "data": {
            "text/plain": [
              "company_hash            0\n",
              "email_hash              0\n",
              "orgyear                86\n",
              "ctc                     0\n",
              "job_position        52562\n",
              "ctc_updated_year        0\n",
              "dtype: int64"
            ]
          },
          "execution_count": 382,
          "metadata": {},
          "output_type": "execute_result"
        }
      ],
      "source": [
        "#Checking which columns have null values\n",
        "df.isnull().sum()"
      ]
    },
    {
      "cell_type": "markdown",
      "id": "a59f9250",
      "metadata": {
        "id": "a59f9250"
      },
      "source": [
        "#### orgyear"
      ]
    },
    {
      "cell_type": "code",
      "execution_count": null,
      "id": "a8361328",
      "metadata": {
        "id": "a8361328"
      },
      "outputs": [],
      "source": [
        "# creating a temporary dataframe and applying scaling for KNN Imputation\n",
        "df_temp = df[['orgyear','ctc','ctc_updated_year']]\n",
        "sc_x = StandardScaler()\n",
        "df_temp = sc_x.fit_transform(df_temp)"
      ]
    },
    {
      "cell_type": "code",
      "execution_count": null,
      "id": "d400e50c",
      "metadata": {
        "id": "d400e50c"
      },
      "outputs": [],
      "source": [
        "# KNN Imputation\n",
        "df_temp = pd.DataFrame(df_temp,columns = ['orgyear','ctc','ctc_updated_year'])\n",
        "imputer = KNNImputer(n_neighbors=5)\n",
        "df_temp = pd.DataFrame(imputer.fit_transform(df_temp),columns = df_temp.columns)"
      ]
    },
    {
      "cell_type": "code",
      "execution_count": null,
      "id": "5f99d11e",
      "metadata": {
        "id": "5f99d11e"
      },
      "outputs": [],
      "source": [
        "# inversing the scaling and getting original values to insert in original dataframe\n",
        "df_temp = sc_x.inverse_transform(df_temp)\n",
        "df_temp = pd.DataFrame(df_temp,columns = ['orgyear','ctc','ctc_updated_year'])\n",
        "df['orgyear']=df_temp['orgyear']"
      ]
    },
    {
      "cell_type": "code",
      "execution_count": null,
      "id": "b9de1043",
      "metadata": {
        "id": "b9de1043",
        "outputId": "9de56caf-cb5a-4a84-c036-c9a357d51d45"
      },
      "outputs": [
        {
          "data": {
            "text/plain": [
              "company_hash            0\n",
              "email_hash              0\n",
              "orgyear                 0\n",
              "ctc                     0\n",
              "job_position        52562\n",
              "ctc_updated_year        0\n",
              "dtype: int64"
            ]
          },
          "execution_count": 386,
          "metadata": {},
          "output_type": "execute_result"
        }
      ],
      "source": [
        "# Checking which columns have null values\n",
        "df.isnull().sum()"
      ]
    },
    {
      "cell_type": "code",
      "execution_count": null,
      "id": "7722e9e7",
      "metadata": {
        "id": "7722e9e7"
      },
      "outputs": [],
      "source": [
        "# Removing rows where orgyear > current year\n",
        "df = df[df['orgyear']<=date.today().year]"
      ]
    },
    {
      "cell_type": "code",
      "execution_count": null,
      "id": "6eae5f8c",
      "metadata": {
        "id": "6eae5f8c"
      },
      "outputs": [],
      "source": [
        "# Removing rows where orgyear is not a valid entry\n",
        "df = df[df['orgyear']>=1970]"
      ]
    },
    {
      "cell_type": "markdown",
      "id": "66a113e0",
      "metadata": {
        "id": "66a113e0"
      },
      "source": [
        "#### job_position"
      ]
    },
    {
      "cell_type": "code",
      "execution_count": null,
      "id": "0f4b4516",
      "metadata": {
        "id": "0f4b4516"
      },
      "outputs": [],
      "source": [
        "# Filling null values with 'other'\n",
        "df['job_position'] = df['job_position'].fillna('other')"
      ]
    },
    {
      "cell_type": "code",
      "execution_count": null,
      "id": "03da3fb2",
      "metadata": {
        "id": "03da3fb2",
        "outputId": "3882df9b-f49b-4038-e04b-2bc5115e55f6"
      },
      "outputs": [
        {
          "data": {
            "text/plain": [
              "company_hash        0\n",
              "email_hash          0\n",
              "orgyear             0\n",
              "ctc                 0\n",
              "job_position        0\n",
              "ctc_updated_year    0\n",
              "dtype: int64"
            ]
          },
          "execution_count": 390,
          "metadata": {},
          "output_type": "execute_result"
        }
      ],
      "source": [
        "# Checking which columns have null values\n",
        "df.isnull().sum()"
      ]
    },
    {
      "cell_type": "markdown",
      "id": "4aed14c6",
      "metadata": {
        "id": "4aed14c6"
      },
      "source": [
        "### Duplicate Rows Removal"
      ]
    },
    {
      "cell_type": "code",
      "execution_count": null,
      "id": "c709121b",
      "metadata": {
        "id": "c709121b",
        "outputId": "d9cd5557-fa2c-4075-f0a3-0ec9a3b200b8"
      },
      "outputs": [
        {
          "data": {
            "text/plain": [
              "4480"
            ]
          },
          "execution_count": 391,
          "metadata": {},
          "output_type": "execute_result"
        }
      ],
      "source": [
        "# Checking for duplicate rows\n",
        "df.duplicated().sum()"
      ]
    },
    {
      "cell_type": "code",
      "execution_count": null,
      "id": "e846f63f",
      "metadata": {
        "id": "e846f63f"
      },
      "outputs": [],
      "source": [
        "# removing duplicate rows\n",
        "df.drop_duplicates(inplace=True)"
      ]
    },
    {
      "cell_type": "code",
      "execution_count": null,
      "id": "757760a6",
      "metadata": {
        "id": "757760a6",
        "outputId": "763e689d-9e4d-4b72-c7a2-dda8c88fa76f"
      },
      "outputs": [
        {
          "data": {
            "text/plain": [
              "0"
            ]
          },
          "execution_count": 393,
          "metadata": {},
          "output_type": "execute_result"
        }
      ],
      "source": [
        "# Checking for duplicate rows\n",
        "df.duplicated().sum()"
      ]
    },
    {
      "cell_type": "markdown",
      "id": "20f74675",
      "metadata": {
        "id": "20f74675"
      },
      "source": [
        "### Non-Graphical Analysis"
      ]
    },
    {
      "cell_type": "code",
      "execution_count": null,
      "id": "b7a3fb21",
      "metadata": {
        "id": "b7a3fb21",
        "outputId": "5a847b47-c10a-4b61-b6c3-f000b5d93767"
      },
      "outputs": [
        {
          "data": {
            "text/plain": [
              "company_hash         37264\n",
              "email_hash          153339\n",
              "orgyear                 84\n",
              "ctc                   3358\n",
              "job_position           932\n",
              "ctc_updated_year         7\n",
              "dtype: int64"
            ]
          },
          "execution_count": 394,
          "metadata": {},
          "output_type": "execute_result"
        }
      ],
      "source": [
        "# Number of unique values in each column\n",
        "df.nunique()"
      ]
    },
    {
      "cell_type": "code",
      "execution_count": null,
      "id": "50d7f47d",
      "metadata": {
        "id": "50d7f47d",
        "outputId": "4f1a51e7-c38f-4d6a-e15f-aa4c40954b9f"
      },
      "outputs": [
        {
          "name": "stdout",
          "output_type": "stream",
          "text": [
            "company_hash\n",
            "nvnv wgzohrnvzwj otqcxwto         7989\n",
            "xzegojo                           5062\n",
            "vbvkgz                            3392\n",
            "zgn vuurxwvmrt vwwghzn            3245\n",
            "wgszxkvzn                         3072\n",
            "                                  ... \n",
            "qtcshqho                             1\n",
            "xbo tzsxzttqxzs wgrrtst              1\n",
            "nxrt                                 1\n",
            "zgn jtn fgqpxzs onxrr onhajxzs       1\n",
            "bvptbjnqxu td vbvkgz                 1\n",
            "Name: company_hash, Length: 37264, dtype: int64\n",
            "\n",
            "\n",
            "email_hash\n",
            "3e5e49daa5527a6d5a33599b238bf9bf31e85b9efa9a94f1c88c5e15a6f31378    9\n",
            "6842660273f70e9aa239026ba33bfe82275d6ab0d20124021b952b5bc3d07e6c    9\n",
            "298528ce3160cc761e4dc37a07337ee2e0589df251d73645aae209b010210eee    8\n",
            "b4d5afa09bec8689017d8b29701b80d664ca37b83cb883376b2e95191320da66    8\n",
            "d15041f58bb01c8ee29f72e33b136e26bc32f3169a40b53d75fe7ae9cbb9a551    8\n",
            "                                                                   ..\n",
            "21a49c715040b70c7c15306ed2ae46e494eab204769bb183b4b194b5883acaf1    1\n",
            "98cdca82f48cf255aeb556094bf3db1666581362d3e7d71e879b36d9c4cd5738    1\n",
            "d659e42658d18d99719772cc58210ec39ddd9ab07f57f32a9f0f6ea6839f5293    1\n",
            "156083886afe5fa3a9dc3ebd15be3ba8930db143fd9148fb5c3169b5c0e92c30    1\n",
            "0bcfc1d05f2e8dc4147743a1313aa70a119b41b30d4a1f7e738a6a87d3712c31    1\n",
            "Name: email_hash, Length: 153339, dtype: int64\n",
            "\n",
            "\n",
            "orgyear\n",
            "2018.0    24570\n",
            "2017.0    22688\n",
            "2019.0    22657\n",
            "2016.0    22564\n",
            "2015.0    20249\n",
            "          ...  \n",
            "1973.0        1\n",
            "1972.0        1\n",
            "2018.8        1\n",
            "2015.6        1\n",
            "2009.2        1\n",
            "Name: orgyear, Length: 84, dtype: int64\n",
            "\n",
            "\n",
            "ctc\n",
            "600000       7565\n",
            "1000000      7396\n",
            "400000       7202\n",
            "500000       6913\n",
            "800000       6610\n",
            "             ... \n",
            "164000000       1\n",
            "25              1\n",
            "1273000         1\n",
            "723000          1\n",
            "3327000         1\n",
            "Name: ctc, Length: 3358, dtype: int64\n",
            "\n",
            "\n",
            "job_position\n",
            "other                               66212\n",
            "backend engineer                    43527\n",
            "fullstack engineer                  25870\n",
            "frontend engineer                   10409\n",
            "engineering leadership               6860\n",
            "                                    ...  \n",
            "x                                       1\n",
            "machine learning engineer intern        1\n",
            "third party provider                    1\n",
            "web designer                            1\n",
            "azure data factory                      1\n",
            "Name: job_position, Length: 932, dtype: int64\n",
            "\n",
            "\n",
            "ctc_updated_year\n",
            "2019.0    67714\n",
            "2021.0    62407\n",
            "2020.0    48405\n",
            "2017.0     7546\n",
            "2018.0     6742\n",
            "2016.0     5496\n",
            "2015.0     2923\n",
            "Name: ctc_updated_year, dtype: int64\n",
            "\n",
            "\n"
          ]
        }
      ],
      "source": [
        "# Checking value counts\n",
        "for i in df.columns:\n",
        "    print(i)\n",
        "    print(df[i].value_counts())\n",
        "    print('\\n')"
      ]
    },
    {
      "cell_type": "markdown",
      "id": "4a3890d2",
      "metadata": {
        "id": "4a3890d2"
      },
      "source": [
        "**Observations**\n",
        "\n",
        "1) The company whose hash is 'nvnv wgzohrnvzwj otqcxwto' has the most number of profiles in the dataset.\n",
        "\n",
        "2) The person with the email hash '6842660273f70e9aa239026ba33bfe82275d6ab0d20124021b952b5bc3d07e6c' has the most number of entries in the dataset among other learners.\n",
        "\n",
        "3) As per dataset most of the learners started their career in the year 2018. It means majority of Scaler learners have experience in the range of 4 to 5.\n",
        "\n",
        "4) Most common ctc of scaler learners is 600000.\n",
        "\n",
        "5) Job positions like 'backend engineer', 'fullstack engineer' and 'frontend engineer' constitute major chunk of scaler learner dataset.\n",
        "\n",
        "6) Majority of the learners got their salary hike in the year 2019 followed by 2021 and 2020 respectively."
      ]
    },
    {
      "cell_type": "markdown",
      "id": "8242b883",
      "metadata": {
        "id": "8242b883"
      },
      "source": [
        "### Manual Clustering And Feature Engineering"
      ]
    },
    {
      "cell_type": "code",
      "execution_count": null,
      "id": "343d079b",
      "metadata": {
        "id": "343d079b",
        "outputId": "13596502-cba0-4ac6-a91a-3ebf11476017"
      },
      "outputs": [
        {
          "data": {
            "text/html": [
              "<div>\n",
              "<style scoped>\n",
              "    .dataframe tbody tr th:only-of-type {\n",
              "        vertical-align: middle;\n",
              "    }\n",
              "\n",
              "    .dataframe tbody tr th {\n",
              "        vertical-align: top;\n",
              "    }\n",
              "\n",
              "    .dataframe thead th {\n",
              "        text-align: right;\n",
              "    }\n",
              "</style>\n",
              "<table border=\"1\" class=\"dataframe\">\n",
              "  <thead>\n",
              "    <tr style=\"text-align: right;\">\n",
              "      <th></th>\n",
              "      <th>company_hash</th>\n",
              "      <th>email_hash</th>\n",
              "      <th>orgyear</th>\n",
              "      <th>ctc</th>\n",
              "      <th>job_position</th>\n",
              "      <th>ctc_updated_year</th>\n",
              "      <th>years_of_Experience</th>\n",
              "    </tr>\n",
              "  </thead>\n",
              "  <tbody>\n",
              "    <tr>\n",
              "      <th>0</th>\n",
              "      <td>atrgxnnt xzaxv</td>\n",
              "      <td>6de0a4417d18ab14334c3f43397fc13b30c35149d70c05...</td>\n",
              "      <td>2016.0</td>\n",
              "      <td>1100000</td>\n",
              "      <td>other</td>\n",
              "      <td>2020.0</td>\n",
              "      <td>7.0</td>\n",
              "    </tr>\n",
              "    <tr>\n",
              "      <th>1</th>\n",
              "      <td>qtrxvzwt xzegwgbb rxbxnta</td>\n",
              "      <td>b0aaf1ac138b53cb6e039ba2c3d6604a250d02d5145c10...</td>\n",
              "      <td>2018.0</td>\n",
              "      <td>449999</td>\n",
              "      <td>fullstack engineer</td>\n",
              "      <td>2019.0</td>\n",
              "      <td>5.0</td>\n",
              "    </tr>\n",
              "    <tr>\n",
              "      <th>2</th>\n",
              "      <td>ojzwnvwnxw vx</td>\n",
              "      <td>4860c670bcd48fb96c02a4b0ae3608ae6fdd98176112e9...</td>\n",
              "      <td>2015.0</td>\n",
              "      <td>2000000</td>\n",
              "      <td>backend engineer</td>\n",
              "      <td>2020.0</td>\n",
              "      <td>8.0</td>\n",
              "    </tr>\n",
              "    <tr>\n",
              "      <th>3</th>\n",
              "      <td>ngpgutaxv</td>\n",
              "      <td>effdede7a2e7c2af664c8a31d9346385016128d66bbc58...</td>\n",
              "      <td>2017.0</td>\n",
              "      <td>700000</td>\n",
              "      <td>backend engineer</td>\n",
              "      <td>2019.0</td>\n",
              "      <td>6.0</td>\n",
              "    </tr>\n",
              "    <tr>\n",
              "      <th>4</th>\n",
              "      <td>qxen sqghu</td>\n",
              "      <td>6ff54e709262f55cb999a1c1db8436cb2055d8f79ab520...</td>\n",
              "      <td>2017.0</td>\n",
              "      <td>1400000</td>\n",
              "      <td>fullstack engineer</td>\n",
              "      <td>2019.0</td>\n",
              "      <td>6.0</td>\n",
              "    </tr>\n",
              "  </tbody>\n",
              "</table>\n",
              "</div>"
            ],
            "text/plain": [
              "                company_hash  \\\n",
              "0             atrgxnnt xzaxv   \n",
              "1  qtrxvzwt xzegwgbb rxbxnta   \n",
              "2              ojzwnvwnxw vx   \n",
              "3                  ngpgutaxv   \n",
              "4                 qxen sqghu   \n",
              "\n",
              "                                          email_hash  orgyear      ctc  \\\n",
              "0  6de0a4417d18ab14334c3f43397fc13b30c35149d70c05...   2016.0  1100000   \n",
              "1  b0aaf1ac138b53cb6e039ba2c3d6604a250d02d5145c10...   2018.0   449999   \n",
              "2  4860c670bcd48fb96c02a4b0ae3608ae6fdd98176112e9...   2015.0  2000000   \n",
              "3  effdede7a2e7c2af664c8a31d9346385016128d66bbc58...   2017.0   700000   \n",
              "4  6ff54e709262f55cb999a1c1db8436cb2055d8f79ab520...   2017.0  1400000   \n",
              "\n",
              "         job_position  ctc_updated_year  years_of_Experience  \n",
              "0               other            2020.0                  7.0  \n",
              "1  fullstack engineer            2019.0                  5.0  \n",
              "2    backend engineer            2020.0                  8.0  \n",
              "3    backend engineer            2019.0                  6.0  \n",
              "4  fullstack engineer            2019.0                  6.0  "
            ]
          },
          "execution_count": 396,
          "metadata": {},
          "output_type": "execute_result"
        }
      ],
      "source": [
        "# Adding ‘Years of Experience’ column\n",
        "df['years_of_Experience'] = date.today().year - df['orgyear']\n",
        "df.head()"
      ]
    },
    {
      "cell_type": "code",
      "execution_count": null,
      "id": "b7510fe3",
      "metadata": {
        "id": "b7510fe3",
        "outputId": "c54168f8-b179-442d-a8c3-ced0b2025b07"
      },
      "outputs": [
        {
          "data": {
            "text/html": [
              "<div>\n",
              "<style scoped>\n",
              "    .dataframe tbody tr th:only-of-type {\n",
              "        vertical-align: middle;\n",
              "    }\n",
              "\n",
              "    .dataframe tbody tr th {\n",
              "        vertical-align: top;\n",
              "    }\n",
              "\n",
              "    .dataframe thead th {\n",
              "        text-align: right;\n",
              "    }\n",
              "</style>\n",
              "<table border=\"1\" class=\"dataframe\">\n",
              "  <thead>\n",
              "    <tr style=\"text-align: right;\">\n",
              "      <th></th>\n",
              "      <th>company_hash</th>\n",
              "      <th>email_hash</th>\n",
              "      <th>orgyear</th>\n",
              "      <th>ctc</th>\n",
              "      <th>job_position</th>\n",
              "      <th>ctc_updated_year</th>\n",
              "      <th>years_of_Experience</th>\n",
              "      <th>designation</th>\n",
              "    </tr>\n",
              "  </thead>\n",
              "  <tbody>\n",
              "    <tr>\n",
              "      <th>2940</th>\n",
              "      <td>0</td>\n",
              "      <td>e80f7c9c26012bfdeca551e2b8642a93e45939d3d677c5...</td>\n",
              "      <td>2020.0</td>\n",
              "      <td>100000</td>\n",
              "      <td>other</td>\n",
              "      <td>2020.0</td>\n",
              "      <td>3.0</td>\n",
              "      <td>1</td>\n",
              "    </tr>\n",
              "    <tr>\n",
              "      <th>197540</th>\n",
              "      <td>0000</td>\n",
              "      <td>b3f3bb98cbca4b1ce5dfd5abb4e500ce6f6b66288a5202...</td>\n",
              "      <td>2017.0</td>\n",
              "      <td>300000</td>\n",
              "      <td>other</td>\n",
              "      <td>2020.0</td>\n",
              "      <td>6.0</td>\n",
              "      <td>1</td>\n",
              "    </tr>\n",
              "    <tr>\n",
              "      <th>74429</th>\n",
              "      <td>01 ojztqsj</td>\n",
              "      <td>819789ff4068fd5c8facf8a5074cdd2e1ff989c95ae02c...</td>\n",
              "      <td>2016.0</td>\n",
              "      <td>270000</td>\n",
              "      <td>android engineer</td>\n",
              "      <td>2019.0</td>\n",
              "      <td>7.0</td>\n",
              "      <td>1</td>\n",
              "    </tr>\n",
              "    <tr>\n",
              "      <th>55241</th>\n",
              "      <td>01 ojztqsj</td>\n",
              "      <td>e1e15fada844f35fcc33927343d0c80f55526b87c40eee...</td>\n",
              "      <td>2011.0</td>\n",
              "      <td>830000</td>\n",
              "      <td>frontend engineer</td>\n",
              "      <td>2019.0</td>\n",
              "      <td>12.0</td>\n",
              "      <td>1</td>\n",
              "    </tr>\n",
              "    <tr>\n",
              "      <th>139865</th>\n",
              "      <td>05mz exzytvrny uqxcvnt rxbxnta</td>\n",
              "      <td>4702229ffb6968c87b16fc57e730769e554184e322e111...</td>\n",
              "      <td>2019.0</td>\n",
              "      <td>1100000</td>\n",
              "      <td>backend engineer</td>\n",
              "      <td>2021.0</td>\n",
              "      <td>4.0</td>\n",
              "      <td>1</td>\n",
              "    </tr>\n",
              "  </tbody>\n",
              "</table>\n",
              "</div>"
            ],
            "text/plain": [
              "                          company_hash  \\\n",
              "2940                                 0   \n",
              "197540                            0000   \n",
              "74429                       01 ojztqsj   \n",
              "55241                       01 ojztqsj   \n",
              "139865  05mz exzytvrny uqxcvnt rxbxnta   \n",
              "\n",
              "                                               email_hash  orgyear      ctc  \\\n",
              "2940    e80f7c9c26012bfdeca551e2b8642a93e45939d3d677c5...   2020.0   100000   \n",
              "197540  b3f3bb98cbca4b1ce5dfd5abb4e500ce6f6b66288a5202...   2017.0   300000   \n",
              "74429   819789ff4068fd5c8facf8a5074cdd2e1ff989c95ae02c...   2016.0   270000   \n",
              "55241   e1e15fada844f35fcc33927343d0c80f55526b87c40eee...   2011.0   830000   \n",
              "139865  4702229ffb6968c87b16fc57e730769e554184e322e111...   2019.0  1100000   \n",
              "\n",
              "             job_position  ctc_updated_year  years_of_Experience  designation  \n",
              "2940                other            2020.0                  3.0            1  \n",
              "197540              other            2020.0                  6.0            1  \n",
              "74429    android engineer            2019.0                  7.0            1  \n",
              "55241   frontend engineer            2019.0                 12.0            1  \n",
              "139865   backend engineer            2021.0                  4.0            1  "
            ]
          },
          "execution_count": 397,
          "metadata": {},
          "output_type": "execute_result"
        }
      ],
      "source": [
        "# Adding ‘designation’ column for manual clustering\n",
        "df_ctc = df.groupby(['company_hash','job_position','years_of_Experience']).ctc.describe()\n",
        "df = pd.merge(df_ctc[['count','50%','75%']], df, left_index=True, right_on=['company_hash','job_position','years_of_Experience'])\n",
        "df['designation'] = np.where(df['count']==1,1,0)\n",
        "df['designation'] = np.where(df['ctc']<df['50%'], 3, df['designation'])\n",
        "df['designation'] = np.where(df['ctc']>=df['75%'], 1, df['designation'])\n",
        "df['designation'] = np.where(df['designation']==0, 2, df['designation'])\n",
        "df.drop(['count','50%','75%'], axis=1,inplace=True)\n",
        "df.head()"
      ]
    },
    {
      "cell_type": "code",
      "execution_count": null,
      "id": "2a6b2ede",
      "metadata": {
        "id": "2a6b2ede",
        "outputId": "95e52d62-38bf-4a40-ee60-f2205e506934"
      },
      "outputs": [
        {
          "data": {
            "text/html": [
              "<div>\n",
              "<style scoped>\n",
              "    .dataframe tbody tr th:only-of-type {\n",
              "        vertical-align: middle;\n",
              "    }\n",
              "\n",
              "    .dataframe tbody tr th {\n",
              "        vertical-align: top;\n",
              "    }\n",
              "\n",
              "    .dataframe thead th {\n",
              "        text-align: right;\n",
              "    }\n",
              "</style>\n",
              "<table border=\"1\" class=\"dataframe\">\n",
              "  <thead>\n",
              "    <tr style=\"text-align: right;\">\n",
              "      <th></th>\n",
              "      <th>company_hash</th>\n",
              "      <th>email_hash</th>\n",
              "      <th>orgyear</th>\n",
              "      <th>ctc</th>\n",
              "      <th>job_position</th>\n",
              "      <th>ctc_updated_year</th>\n",
              "      <th>years_of_Experience</th>\n",
              "      <th>designation</th>\n",
              "      <th>class</th>\n",
              "    </tr>\n",
              "  </thead>\n",
              "  <tbody>\n",
              "    <tr>\n",
              "      <th>2940</th>\n",
              "      <td>0</td>\n",
              "      <td>e80f7c9c26012bfdeca551e2b8642a93e45939d3d677c5...</td>\n",
              "      <td>2020.0</td>\n",
              "      <td>100000</td>\n",
              "      <td>other</td>\n",
              "      <td>2020.0</td>\n",
              "      <td>3.0</td>\n",
              "      <td>1</td>\n",
              "      <td>1</td>\n",
              "    </tr>\n",
              "    <tr>\n",
              "      <th>197540</th>\n",
              "      <td>0000</td>\n",
              "      <td>b3f3bb98cbca4b1ce5dfd5abb4e500ce6f6b66288a5202...</td>\n",
              "      <td>2017.0</td>\n",
              "      <td>300000</td>\n",
              "      <td>other</td>\n",
              "      <td>2020.0</td>\n",
              "      <td>6.0</td>\n",
              "      <td>1</td>\n",
              "      <td>1</td>\n",
              "    </tr>\n",
              "    <tr>\n",
              "      <th>74429</th>\n",
              "      <td>01 ojztqsj</td>\n",
              "      <td>819789ff4068fd5c8facf8a5074cdd2e1ff989c95ae02c...</td>\n",
              "      <td>2016.0</td>\n",
              "      <td>270000</td>\n",
              "      <td>android engineer</td>\n",
              "      <td>2019.0</td>\n",
              "      <td>7.0</td>\n",
              "      <td>1</td>\n",
              "      <td>1</td>\n",
              "    </tr>\n",
              "    <tr>\n",
              "      <th>55241</th>\n",
              "      <td>01 ojztqsj</td>\n",
              "      <td>e1e15fada844f35fcc33927343d0c80f55526b87c40eee...</td>\n",
              "      <td>2011.0</td>\n",
              "      <td>830000</td>\n",
              "      <td>frontend engineer</td>\n",
              "      <td>2019.0</td>\n",
              "      <td>12.0</td>\n",
              "      <td>1</td>\n",
              "      <td>1</td>\n",
              "    </tr>\n",
              "    <tr>\n",
              "      <th>139865</th>\n",
              "      <td>05mz exzytvrny uqxcvnt rxbxnta</td>\n",
              "      <td>4702229ffb6968c87b16fc57e730769e554184e322e111...</td>\n",
              "      <td>2019.0</td>\n",
              "      <td>1100000</td>\n",
              "      <td>backend engineer</td>\n",
              "      <td>2021.0</td>\n",
              "      <td>4.0</td>\n",
              "      <td>1</td>\n",
              "      <td>1</td>\n",
              "    </tr>\n",
              "  </tbody>\n",
              "</table>\n",
              "</div>"
            ],
            "text/plain": [
              "                          company_hash  \\\n",
              "2940                                 0   \n",
              "197540                            0000   \n",
              "74429                       01 ojztqsj   \n",
              "55241                       01 ojztqsj   \n",
              "139865  05mz exzytvrny uqxcvnt rxbxnta   \n",
              "\n",
              "                                               email_hash  orgyear      ctc  \\\n",
              "2940    e80f7c9c26012bfdeca551e2b8642a93e45939d3d677c5...   2020.0   100000   \n",
              "197540  b3f3bb98cbca4b1ce5dfd5abb4e500ce6f6b66288a5202...   2017.0   300000   \n",
              "74429   819789ff4068fd5c8facf8a5074cdd2e1ff989c95ae02c...   2016.0   270000   \n",
              "55241   e1e15fada844f35fcc33927343d0c80f55526b87c40eee...   2011.0   830000   \n",
              "139865  4702229ffb6968c87b16fc57e730769e554184e322e111...   2019.0  1100000   \n",
              "\n",
              "             job_position  ctc_updated_year  years_of_Experience  designation  \\\n",
              "2940                other            2020.0                  3.0            1   \n",
              "197540              other            2020.0                  6.0            1   \n",
              "74429    android engineer            2019.0                  7.0            1   \n",
              "55241   frontend engineer            2019.0                 12.0            1   \n",
              "139865   backend engineer            2021.0                  4.0            1   \n",
              "\n",
              "        class  \n",
              "2940        1  \n",
              "197540      1  \n",
              "74429       1  \n",
              "55241       1  \n",
              "139865      1  "
            ]
          },
          "execution_count": 398,
          "metadata": {},
          "output_type": "execute_result"
        }
      ],
      "source": [
        "# Adding ‘class’ column for manual clustering\n",
        "df_ctc = df.groupby(['company_hash','job_position']).ctc.describe()\n",
        "df = pd.merge(df_ctc[['count','50%','75%']], df, left_index=True, right_on=['company_hash','job_position'])\n",
        "df['class'] = np.where(df['count']==1,1,0)\n",
        "df['class'] = np.where(df['ctc']<df['50%'], 3, df['class'])\n",
        "df['class'] = np.where(df['ctc']>=df['75%'], 1, df['class'])\n",
        "df['class'] = np.where(df['class']==0, 2, df['class'])\n",
        "df.drop(['count','50%','75%'], axis=1,inplace=True)\n",
        "df.head()"
      ]
    },
    {
      "cell_type": "code",
      "execution_count": null,
      "id": "afad6ba4",
      "metadata": {
        "id": "afad6ba4",
        "outputId": "6fc5a74e-4b19-4ae8-8a02-5a9ac00a29d9"
      },
      "outputs": [
        {
          "data": {
            "text/html": [
              "<div>\n",
              "<style scoped>\n",
              "    .dataframe tbody tr th:only-of-type {\n",
              "        vertical-align: middle;\n",
              "    }\n",
              "\n",
              "    .dataframe tbody tr th {\n",
              "        vertical-align: top;\n",
              "    }\n",
              "\n",
              "    .dataframe thead th {\n",
              "        text-align: right;\n",
              "    }\n",
              "</style>\n",
              "<table border=\"1\" class=\"dataframe\">\n",
              "  <thead>\n",
              "    <tr style=\"text-align: right;\">\n",
              "      <th></th>\n",
              "      <th>company_hash</th>\n",
              "      <th>email_hash</th>\n",
              "      <th>orgyear</th>\n",
              "      <th>ctc</th>\n",
              "      <th>job_position</th>\n",
              "      <th>ctc_updated_year</th>\n",
              "      <th>years_of_Experience</th>\n",
              "      <th>designation</th>\n",
              "      <th>class</th>\n",
              "      <th>tier</th>\n",
              "    </tr>\n",
              "  </thead>\n",
              "  <tbody>\n",
              "    <tr>\n",
              "      <th>2940</th>\n",
              "      <td>0</td>\n",
              "      <td>e80f7c9c26012bfdeca551e2b8642a93e45939d3d677c5...</td>\n",
              "      <td>2020.0</td>\n",
              "      <td>100000</td>\n",
              "      <td>other</td>\n",
              "      <td>2020.0</td>\n",
              "      <td>3.0</td>\n",
              "      <td>1</td>\n",
              "      <td>1</td>\n",
              "      <td>1</td>\n",
              "    </tr>\n",
              "    <tr>\n",
              "      <th>197540</th>\n",
              "      <td>0000</td>\n",
              "      <td>b3f3bb98cbca4b1ce5dfd5abb4e500ce6f6b66288a5202...</td>\n",
              "      <td>2017.0</td>\n",
              "      <td>300000</td>\n",
              "      <td>other</td>\n",
              "      <td>2020.0</td>\n",
              "      <td>6.0</td>\n",
              "      <td>1</td>\n",
              "      <td>1</td>\n",
              "      <td>1</td>\n",
              "    </tr>\n",
              "    <tr>\n",
              "      <th>74429</th>\n",
              "      <td>01 ojztqsj</td>\n",
              "      <td>819789ff4068fd5c8facf8a5074cdd2e1ff989c95ae02c...</td>\n",
              "      <td>2016.0</td>\n",
              "      <td>270000</td>\n",
              "      <td>android engineer</td>\n",
              "      <td>2019.0</td>\n",
              "      <td>7.0</td>\n",
              "      <td>1</td>\n",
              "      <td>1</td>\n",
              "      <td>3</td>\n",
              "    </tr>\n",
              "    <tr>\n",
              "      <th>55241</th>\n",
              "      <td>01 ojztqsj</td>\n",
              "      <td>e1e15fada844f35fcc33927343d0c80f55526b87c40eee...</td>\n",
              "      <td>2011.0</td>\n",
              "      <td>830000</td>\n",
              "      <td>frontend engineer</td>\n",
              "      <td>2019.0</td>\n",
              "      <td>12.0</td>\n",
              "      <td>1</td>\n",
              "      <td>1</td>\n",
              "      <td>1</td>\n",
              "    </tr>\n",
              "    <tr>\n",
              "      <th>139865</th>\n",
              "      <td>05mz exzytvrny uqxcvnt rxbxnta</td>\n",
              "      <td>4702229ffb6968c87b16fc57e730769e554184e322e111...</td>\n",
              "      <td>2019.0</td>\n",
              "      <td>1100000</td>\n",
              "      <td>backend engineer</td>\n",
              "      <td>2021.0</td>\n",
              "      <td>4.0</td>\n",
              "      <td>1</td>\n",
              "      <td>1</td>\n",
              "      <td>1</td>\n",
              "    </tr>\n",
              "  </tbody>\n",
              "</table>\n",
              "</div>"
            ],
            "text/plain": [
              "                          company_hash  \\\n",
              "2940                                 0   \n",
              "197540                            0000   \n",
              "74429                       01 ojztqsj   \n",
              "55241                       01 ojztqsj   \n",
              "139865  05mz exzytvrny uqxcvnt rxbxnta   \n",
              "\n",
              "                                               email_hash  orgyear      ctc  \\\n",
              "2940    e80f7c9c26012bfdeca551e2b8642a93e45939d3d677c5...   2020.0   100000   \n",
              "197540  b3f3bb98cbca4b1ce5dfd5abb4e500ce6f6b66288a5202...   2017.0   300000   \n",
              "74429   819789ff4068fd5c8facf8a5074cdd2e1ff989c95ae02c...   2016.0   270000   \n",
              "55241   e1e15fada844f35fcc33927343d0c80f55526b87c40eee...   2011.0   830000   \n",
              "139865  4702229ffb6968c87b16fc57e730769e554184e322e111...   2019.0  1100000   \n",
              "\n",
              "             job_position  ctc_updated_year  years_of_Experience  designation  \\\n",
              "2940                other            2020.0                  3.0            1   \n",
              "197540              other            2020.0                  6.0            1   \n",
              "74429    android engineer            2019.0                  7.0            1   \n",
              "55241   frontend engineer            2019.0                 12.0            1   \n",
              "139865   backend engineer            2021.0                  4.0            1   \n",
              "\n",
              "        class  tier  \n",
              "2940        1     1  \n",
              "197540      1     1  \n",
              "74429       1     3  \n",
              "55241       1     1  \n",
              "139865      1     1  "
            ]
          },
          "execution_count": 399,
          "metadata": {},
          "output_type": "execute_result"
        }
      ],
      "source": [
        "# Adding ‘tier’ column for manual clustering\n",
        "df_ctc = df.groupby(['company_hash']).ctc.describe()\n",
        "df = pd.merge(df_ctc[['count','50%','75%']], df, left_index=True, right_on=['company_hash'])\n",
        "df['tier'] = np.where(df['count']==1,1,0)\n",
        "df['tier'] = np.where(df['ctc']<df['50%'], 3, df['tier'])\n",
        "df['tier'] = np.where(df['ctc']>=df['75%'], 1, df['tier'])\n",
        "df['tier'] = np.where(df['tier']==0, 2, df['tier'])\n",
        "df.drop(['count','50%','75%'], axis=1,inplace=True)\n",
        "df.head()"
      ]
    },
    {
      "cell_type": "markdown",
      "id": "51a2b8b8",
      "metadata": {
        "id": "51a2b8b8"
      },
      "source": [
        "#### Questions and Answers"
      ]
    },
    {
      "cell_type": "markdown",
      "id": "93f0c672",
      "metadata": {
        "id": "93f0c672"
      },
      "source": [
        "***1) Top 10 employees (earning more than most of the employees in the company) - Tier 1***"
      ]
    },
    {
      "cell_type": "code",
      "execution_count": null,
      "id": "b08d1085",
      "metadata": {
        "id": "b08d1085",
        "outputId": "c5161dc1-4695-4ea9-9fe5-822dbca546d3"
      },
      "outputs": [
        {
          "data": {
            "text/html": [
              "<div>\n",
              "<style scoped>\n",
              "    .dataframe tbody tr th:only-of-type {\n",
              "        vertical-align: middle;\n",
              "    }\n",
              "\n",
              "    .dataframe tbody tr th {\n",
              "        vertical-align: top;\n",
              "    }\n",
              "\n",
              "    .dataframe thead th {\n",
              "        text-align: right;\n",
              "    }\n",
              "</style>\n",
              "<table border=\"1\" class=\"dataframe\">\n",
              "  <thead>\n",
              "    <tr style=\"text-align: right;\">\n",
              "      <th></th>\n",
              "      <th>company_hash</th>\n",
              "      <th>email_hash</th>\n",
              "      <th>orgyear</th>\n",
              "      <th>ctc</th>\n",
              "      <th>job_position</th>\n",
              "      <th>ctc_updated_year</th>\n",
              "      <th>years_of_Experience</th>\n",
              "      <th>designation</th>\n",
              "      <th>class</th>\n",
              "      <th>tier</th>\n",
              "    </tr>\n",
              "  </thead>\n",
              "  <tbody>\n",
              "    <tr>\n",
              "      <th>72824</th>\n",
              "      <td>whmxw rgsxwo uqxcvnt rxbxnta</td>\n",
              "      <td>29a71dd13adf6d2d497571a565bb3096cf66cb46cd1ece...</td>\n",
              "      <td>2015.0</td>\n",
              "      <td>1000150000</td>\n",
              "      <td>other</td>\n",
              "      <td>2020.0</td>\n",
              "      <td>8.0</td>\n",
              "      <td>1</td>\n",
              "      <td>1</td>\n",
              "      <td>1</td>\n",
              "    </tr>\n",
              "    <tr>\n",
              "      <th>117636</th>\n",
              "      <td>obvqnuqxdwgb</td>\n",
              "      <td>5b4bed51797140db4ed52018a979db1e34cee49e27b488...</td>\n",
              "      <td>2018.0</td>\n",
              "      <td>255555555</td>\n",
              "      <td>other</td>\n",
              "      <td>2016.0</td>\n",
              "      <td>5.0</td>\n",
              "      <td>1</td>\n",
              "      <td>1</td>\n",
              "      <td>1</td>\n",
              "    </tr>\n",
              "    <tr>\n",
              "      <th>3301</th>\n",
              "      <td>aveegaxr xzntqzvnxgzvr hzxctqoxnj</td>\n",
              "      <td>06d231f167701592a69cdd7d5c825a0f5b30f0347a4078...</td>\n",
              "      <td>2021.0</td>\n",
              "      <td>250000000</td>\n",
              "      <td>other</td>\n",
              "      <td>2020.0</td>\n",
              "      <td>2.0</td>\n",
              "      <td>1</td>\n",
              "      <td>1</td>\n",
              "      <td>1</td>\n",
              "    </tr>\n",
              "    <tr>\n",
              "      <th>11457</th>\n",
              "      <td>ntwy bvyxzaqv</td>\n",
              "      <td>16b1e23c22e9162f476ec3639ce875b0cc88678cc671e2...</td>\n",
              "      <td>2013.0</td>\n",
              "      <td>200000000</td>\n",
              "      <td>support engineer</td>\n",
              "      <td>2020.0</td>\n",
              "      <td>10.0</td>\n",
              "      <td>1</td>\n",
              "      <td>1</td>\n",
              "      <td>1</td>\n",
              "    </tr>\n",
              "    <tr>\n",
              "      <th>93816</th>\n",
              "      <td>vbvkgz wvzvav</td>\n",
              "      <td>005f352591238b78024ed320789c30e7815f0eea52ed98...</td>\n",
              "      <td>2020.0</td>\n",
              "      <td>200000000</td>\n",
              "      <td>other</td>\n",
              "      <td>2020.0</td>\n",
              "      <td>3.0</td>\n",
              "      <td>1</td>\n",
              "      <td>1</td>\n",
              "      <td>1</td>\n",
              "    </tr>\n",
              "    <tr>\n",
              "      <th>...</th>\n",
              "      <td>...</td>\n",
              "      <td>...</td>\n",
              "      <td>...</td>\n",
              "      <td>...</td>\n",
              "      <td>...</td>\n",
              "      <td>...</td>\n",
              "      <td>...</td>\n",
              "      <td>...</td>\n",
              "      <td>...</td>\n",
              "      <td>...</td>\n",
              "    </tr>\n",
              "    <tr>\n",
              "      <th>82028</th>\n",
              "      <td>uqgmrtb ogrcxzs</td>\n",
              "      <td>edcfb902656b736e1f35863298706d9d34ee795b7ed85a...</td>\n",
              "      <td>2018.0</td>\n",
              "      <td>500</td>\n",
              "      <td>cofounder</td>\n",
              "      <td>2019.0</td>\n",
              "      <td>5.0</td>\n",
              "      <td>1</td>\n",
              "      <td>1</td>\n",
              "      <td>1</td>\n",
              "    </tr>\n",
              "    <tr>\n",
              "      <th>166398</th>\n",
              "      <td>vcvzn sqghu</td>\n",
              "      <td>c411a6917058b50f44d7c62751be9b232155b23211de4c...</td>\n",
              "      <td>2013.0</td>\n",
              "      <td>300</td>\n",
              "      <td>database administrator</td>\n",
              "      <td>2019.0</td>\n",
              "      <td>10.0</td>\n",
              "      <td>1</td>\n",
              "      <td>1</td>\n",
              "      <td>1</td>\n",
              "    </tr>\n",
              "    <tr>\n",
              "      <th>91552</th>\n",
              "      <td>ftm ongqt</td>\n",
              "      <td>512f761579fb116e215cabc9821c7f81153f0763e16018...</td>\n",
              "      <td>2016.0</td>\n",
              "      <td>25</td>\n",
              "      <td>android engineer</td>\n",
              "      <td>2018.0</td>\n",
              "      <td>7.0</td>\n",
              "      <td>1</td>\n",
              "      <td>1</td>\n",
              "      <td>1</td>\n",
              "    </tr>\n",
              "    <tr>\n",
              "      <th>54820</th>\n",
              "      <td>uqvpqxnx voogwxvnto</td>\n",
              "      <td>8786759b95d673466e94f62f1b15e4f8c6bd7de6164074...</td>\n",
              "      <td>2020.0</td>\n",
              "      <td>24</td>\n",
              "      <td>other</td>\n",
              "      <td>2020.0</td>\n",
              "      <td>3.0</td>\n",
              "      <td>1</td>\n",
              "      <td>1</td>\n",
              "      <td>1</td>\n",
              "    </tr>\n",
              "    <tr>\n",
              "      <th>183804</th>\n",
              "      <td>xm</td>\n",
              "      <td>75357254a31f133e2d3870057922feddeba82b88056a07...</td>\n",
              "      <td>2019.0</td>\n",
              "      <td>16</td>\n",
              "      <td>other</td>\n",
              "      <td>2018.0</td>\n",
              "      <td>4.0</td>\n",
              "      <td>1</td>\n",
              "      <td>1</td>\n",
              "      <td>1</td>\n",
              "    </tr>\n",
              "  </tbody>\n",
              "</table>\n",
              "<p>56121 rows × 10 columns</p>\n",
              "</div>"
            ],
            "text/plain": [
              "                             company_hash  \\\n",
              "72824        whmxw rgsxwo uqxcvnt rxbxnta   \n",
              "117636                       obvqnuqxdwgb   \n",
              "3301    aveegaxr xzntqzvnxgzvr hzxctqoxnj   \n",
              "11457                       ntwy bvyxzaqv   \n",
              "93816                       vbvkgz wvzvav   \n",
              "...                                   ...   \n",
              "82028                     uqgmrtb ogrcxzs   \n",
              "166398                        vcvzn sqghu   \n",
              "91552                           ftm ongqt   \n",
              "54820                 uqvpqxnx voogwxvnto   \n",
              "183804                                 xm   \n",
              "\n",
              "                                               email_hash  orgyear  \\\n",
              "72824   29a71dd13adf6d2d497571a565bb3096cf66cb46cd1ece...   2015.0   \n",
              "117636  5b4bed51797140db4ed52018a979db1e34cee49e27b488...   2018.0   \n",
              "3301    06d231f167701592a69cdd7d5c825a0f5b30f0347a4078...   2021.0   \n",
              "11457   16b1e23c22e9162f476ec3639ce875b0cc88678cc671e2...   2013.0   \n",
              "93816   005f352591238b78024ed320789c30e7815f0eea52ed98...   2020.0   \n",
              "...                                                   ...      ...   \n",
              "82028   edcfb902656b736e1f35863298706d9d34ee795b7ed85a...   2018.0   \n",
              "166398  c411a6917058b50f44d7c62751be9b232155b23211de4c...   2013.0   \n",
              "91552   512f761579fb116e215cabc9821c7f81153f0763e16018...   2016.0   \n",
              "54820   8786759b95d673466e94f62f1b15e4f8c6bd7de6164074...   2020.0   \n",
              "183804  75357254a31f133e2d3870057922feddeba82b88056a07...   2019.0   \n",
              "\n",
              "               ctc            job_position  ctc_updated_year  \\\n",
              "72824   1000150000                   other            2020.0   \n",
              "117636   255555555                   other            2016.0   \n",
              "3301     250000000                   other            2020.0   \n",
              "11457    200000000        support engineer            2020.0   \n",
              "93816    200000000                   other            2020.0   \n",
              "...            ...                     ...               ...   \n",
              "82028          500               cofounder            2019.0   \n",
              "166398         300  database administrator            2019.0   \n",
              "91552           25        android engineer            2018.0   \n",
              "54820           24                   other            2020.0   \n",
              "183804          16                   other            2018.0   \n",
              "\n",
              "        years_of_Experience  designation  class  tier  \n",
              "72824                   8.0            1      1     1  \n",
              "117636                  5.0            1      1     1  \n",
              "3301                    2.0            1      1     1  \n",
              "11457                  10.0            1      1     1  \n",
              "93816                   3.0            1      1     1  \n",
              "...                     ...          ...    ...   ...  \n",
              "82028                   5.0            1      1     1  \n",
              "166398                 10.0            1      1     1  \n",
              "91552                   7.0            1      1     1  \n",
              "54820                   3.0            1      1     1  \n",
              "183804                  4.0            1      1     1  \n",
              "\n",
              "[56121 rows x 10 columns]"
            ]
          },
          "execution_count": 400,
          "metadata": {},
          "output_type": "execute_result"
        }
      ],
      "source": [
        "df[df.tier == 1].sort_values('ctc',ascending=False).groupby('company_hash').head(10)"
      ]
    },
    {
      "cell_type": "markdown",
      "id": "6ec9f314",
      "metadata": {
        "id": "6ec9f314"
      },
      "source": [
        "***2) Top 10 employees of data science in Amazon / TCS etc earning more than their peers - Class 1***"
      ]
    },
    {
      "cell_type": "code",
      "execution_count": null,
      "id": "11add90d",
      "metadata": {
        "id": "11add90d",
        "outputId": "d95fec88-996d-4f6d-cd0b-347ec80c40c8"
      },
      "outputs": [
        {
          "data": {
            "text/html": [
              "<div>\n",
              "<style scoped>\n",
              "    .dataframe tbody tr th:only-of-type {\n",
              "        vertical-align: middle;\n",
              "    }\n",
              "\n",
              "    .dataframe tbody tr th {\n",
              "        vertical-align: top;\n",
              "    }\n",
              "\n",
              "    .dataframe thead th {\n",
              "        text-align: right;\n",
              "    }\n",
              "</style>\n",
              "<table border=\"1\" class=\"dataframe\">\n",
              "  <thead>\n",
              "    <tr style=\"text-align: right;\">\n",
              "      <th></th>\n",
              "      <th>company_hash</th>\n",
              "      <th>email_hash</th>\n",
              "      <th>orgyear</th>\n",
              "      <th>ctc</th>\n",
              "      <th>job_position</th>\n",
              "      <th>ctc_updated_year</th>\n",
              "      <th>years_of_Experience</th>\n",
              "      <th>designation</th>\n",
              "      <th>class</th>\n",
              "      <th>tier</th>\n",
              "    </tr>\n",
              "  </thead>\n",
              "  <tbody>\n",
              "    <tr>\n",
              "      <th>31297</th>\n",
              "      <td>ihvaqvnxw xzoxsyno ucn rna</td>\n",
              "      <td>bd222ea783ee372da4e0ad60fdccec0b8f37999a032025...</td>\n",
              "      <td>2015.0</td>\n",
              "      <td>200000000</td>\n",
              "      <td>data scientist</td>\n",
              "      <td>2019.0</td>\n",
              "      <td>8.0</td>\n",
              "      <td>1</td>\n",
              "      <td>1</td>\n",
              "      <td>1</td>\n",
              "    </tr>\n",
              "    <tr>\n",
              "      <th>52818</th>\n",
              "      <td>zgzt</td>\n",
              "      <td>268a5aa92f0b6d0c675fc9cc1e300eb0c5930a3a139a23...</td>\n",
              "      <td>2022.0</td>\n",
              "      <td>200000000</td>\n",
              "      <td>data scientist</td>\n",
              "      <td>2020.0</td>\n",
              "      <td>1.0</td>\n",
              "      <td>1</td>\n",
              "      <td>1</td>\n",
              "      <td>1</td>\n",
              "    </tr>\n",
              "    <tr>\n",
              "      <th>836</th>\n",
              "      <td>mqxonrtwgzt v bvyxzaqv sqghu wgbuvzj</td>\n",
              "      <td>cda8d723438e81185d2ee8c348870a4612eea974cdb2db...</td>\n",
              "      <td>2017.0</td>\n",
              "      <td>200000000</td>\n",
              "      <td>data scientist</td>\n",
              "      <td>2020.0</td>\n",
              "      <td>6.0</td>\n",
              "      <td>1</td>\n",
              "      <td>1</td>\n",
              "      <td>1</td>\n",
              "    </tr>\n",
              "    <tr>\n",
              "      <th>2688</th>\n",
              "      <td>ptnovvr qtnvxr rru</td>\n",
              "      <td>72ed7ced98573f71c8f95bc8b75aac4f0677e8872c6bec...</td>\n",
              "      <td>2019.0</td>\n",
              "      <td>199800000</td>\n",
              "      <td>data scientist</td>\n",
              "      <td>2020.0</td>\n",
              "      <td>4.0</td>\n",
              "      <td>1</td>\n",
              "      <td>1</td>\n",
              "      <td>1</td>\n",
              "    </tr>\n",
              "    <tr>\n",
              "      <th>45211</th>\n",
              "      <td>pgnvp</td>\n",
              "      <td>ace1152ca60b6f2c62bb7c4a00bca0afd5a9bb2c297267...</td>\n",
              "      <td>1992.0</td>\n",
              "      <td>150000000</td>\n",
              "      <td>data scientist</td>\n",
              "      <td>2020.0</td>\n",
              "      <td>31.0</td>\n",
              "      <td>1</td>\n",
              "      <td>1</td>\n",
              "      <td>1</td>\n",
              "    </tr>\n",
              "    <tr>\n",
              "      <th>...</th>\n",
              "      <td>...</td>\n",
              "      <td>...</td>\n",
              "      <td>...</td>\n",
              "      <td>...</td>\n",
              "      <td>...</td>\n",
              "      <td>...</td>\n",
              "      <td>...</td>\n",
              "      <td>...</td>\n",
              "      <td>...</td>\n",
              "      <td>...</td>\n",
              "    </tr>\n",
              "    <tr>\n",
              "      <th>200381</th>\n",
              "      <td>nyt mgongz wgzohrnxzs sqghu mws</td>\n",
              "      <td>cf663c71fc96db1ea5658342e2d73050b40ca479d324de...</td>\n",
              "      <td>2016.0</td>\n",
              "      <td>8000</td>\n",
              "      <td>data scientist</td>\n",
              "      <td>2021.0</td>\n",
              "      <td>7.0</td>\n",
              "      <td>1</td>\n",
              "      <td>1</td>\n",
              "      <td>3</td>\n",
              "    </tr>\n",
              "    <tr>\n",
              "      <th>92656</th>\n",
              "      <td>wtxuvr wgqu</td>\n",
              "      <td>0dcbef1fe34438edbb39b52451378ea61ac2b84a56d919...</td>\n",
              "      <td>2017.0</td>\n",
              "      <td>7500</td>\n",
              "      <td>data scientist</td>\n",
              "      <td>2019.0</td>\n",
              "      <td>6.0</td>\n",
              "      <td>1</td>\n",
              "      <td>1</td>\n",
              "      <td>1</td>\n",
              "    </tr>\n",
              "    <tr>\n",
              "      <th>183233</th>\n",
              "      <td>dvcgq</td>\n",
              "      <td>287dd26e9357888e0ba2c7482764131f7bbcb1748a4f56...</td>\n",
              "      <td>2019.0</td>\n",
              "      <td>7250</td>\n",
              "      <td>data scientist</td>\n",
              "      <td>2020.0</td>\n",
              "      <td>4.0</td>\n",
              "      <td>1</td>\n",
              "      <td>1</td>\n",
              "      <td>1</td>\n",
              "    </tr>\n",
              "    <tr>\n",
              "      <th>194182</th>\n",
              "      <td>otjch xzw</td>\n",
              "      <td>585f7e9865dcdcaad7edf10909d796ba2c5210cde3530b...</td>\n",
              "      <td>2017.0</td>\n",
              "      <td>4000</td>\n",
              "      <td>data scientist</td>\n",
              "      <td>2018.0</td>\n",
              "      <td>6.0</td>\n",
              "      <td>1</td>\n",
              "      <td>1</td>\n",
              "      <td>1</td>\n",
              "    </tr>\n",
              "    <tr>\n",
              "      <th>168329</th>\n",
              "      <td>nvrrtq ntwyzgrgsxto</td>\n",
              "      <td>05801a432a038c254972e356598ca6aa139a18c31d6611...</td>\n",
              "      <td>2021.0</td>\n",
              "      <td>4000</td>\n",
              "      <td>data scientist</td>\n",
              "      <td>2020.0</td>\n",
              "      <td>2.0</td>\n",
              "      <td>1</td>\n",
              "      <td>1</td>\n",
              "      <td>1</td>\n",
              "    </tr>\n",
              "  </tbody>\n",
              "</table>\n",
              "<p>3178 rows × 10 columns</p>\n",
              "</div>"
            ],
            "text/plain": [
              "                                company_hash  \\\n",
              "31297             ihvaqvnxw xzoxsyno ucn rna   \n",
              "52818                                   zgzt   \n",
              "836     mqxonrtwgzt v bvyxzaqv sqghu wgbuvzj   \n",
              "2688                      ptnovvr qtnvxr rru   \n",
              "45211                                  pgnvp   \n",
              "...                                      ...   \n",
              "200381       nyt mgongz wgzohrnxzs sqghu mws   \n",
              "92656                            wtxuvr wgqu   \n",
              "183233                                 dvcgq   \n",
              "194182                             otjch xzw   \n",
              "168329                   nvrrtq ntwyzgrgsxto   \n",
              "\n",
              "                                               email_hash  orgyear        ctc  \\\n",
              "31297   bd222ea783ee372da4e0ad60fdccec0b8f37999a032025...   2015.0  200000000   \n",
              "52818   268a5aa92f0b6d0c675fc9cc1e300eb0c5930a3a139a23...   2022.0  200000000   \n",
              "836     cda8d723438e81185d2ee8c348870a4612eea974cdb2db...   2017.0  200000000   \n",
              "2688    72ed7ced98573f71c8f95bc8b75aac4f0677e8872c6bec...   2019.0  199800000   \n",
              "45211   ace1152ca60b6f2c62bb7c4a00bca0afd5a9bb2c297267...   1992.0  150000000   \n",
              "...                                                   ...      ...        ...   \n",
              "200381  cf663c71fc96db1ea5658342e2d73050b40ca479d324de...   2016.0       8000   \n",
              "92656   0dcbef1fe34438edbb39b52451378ea61ac2b84a56d919...   2017.0       7500   \n",
              "183233  287dd26e9357888e0ba2c7482764131f7bbcb1748a4f56...   2019.0       7250   \n",
              "194182  585f7e9865dcdcaad7edf10909d796ba2c5210cde3530b...   2017.0       4000   \n",
              "168329  05801a432a038c254972e356598ca6aa139a18c31d6611...   2021.0       4000   \n",
              "\n",
              "          job_position  ctc_updated_year  years_of_Experience  designation  \\\n",
              "31297   data scientist            2019.0                  8.0            1   \n",
              "52818   data scientist            2020.0                  1.0            1   \n",
              "836     data scientist            2020.0                  6.0            1   \n",
              "2688    data scientist            2020.0                  4.0            1   \n",
              "45211   data scientist            2020.0                 31.0            1   \n",
              "...                ...               ...                  ...          ...   \n",
              "200381  data scientist            2021.0                  7.0            1   \n",
              "92656   data scientist            2019.0                  6.0            1   \n",
              "183233  data scientist            2020.0                  4.0            1   \n",
              "194182  data scientist            2018.0                  6.0            1   \n",
              "168329  data scientist            2020.0                  2.0            1   \n",
              "\n",
              "        class  tier  \n",
              "31297       1     1  \n",
              "52818       1     1  \n",
              "836         1     1  \n",
              "2688        1     1  \n",
              "45211       1     1  \n",
              "...       ...   ...  \n",
              "200381      1     3  \n",
              "92656       1     1  \n",
              "183233      1     1  \n",
              "194182      1     1  \n",
              "168329      1     1  \n",
              "\n",
              "[3178 rows x 10 columns]"
            ]
          },
          "execution_count": 401,
          "metadata": {},
          "output_type": "execute_result"
        }
      ],
      "source": [
        "df[(df['class'] == 1) & (df.job_position=='data scientist')].sort_values('ctc',ascending=False).groupby('company_hash').head(10)"
      ]
    },
    {
      "cell_type": "markdown",
      "id": "04f4dc4d",
      "metadata": {
        "id": "04f4dc4d"
      },
      "source": [
        "***3) Bottom 10 employees of data science in Amazon / TCS etc earning less than their peers - Class 3***"
      ]
    },
    {
      "cell_type": "code",
      "execution_count": null,
      "id": "b9c58531",
      "metadata": {
        "id": "b9c58531",
        "outputId": "d50ea347-3486-415c-8829-fe95cea80333"
      },
      "outputs": [
        {
          "data": {
            "text/html": [
              "<div>\n",
              "<style scoped>\n",
              "    .dataframe tbody tr th:only-of-type {\n",
              "        vertical-align: middle;\n",
              "    }\n",
              "\n",
              "    .dataframe tbody tr th {\n",
              "        vertical-align: top;\n",
              "    }\n",
              "\n",
              "    .dataframe thead th {\n",
              "        text-align: right;\n",
              "    }\n",
              "</style>\n",
              "<table border=\"1\" class=\"dataframe\">\n",
              "  <thead>\n",
              "    <tr style=\"text-align: right;\">\n",
              "      <th></th>\n",
              "      <th>company_hash</th>\n",
              "      <th>email_hash</th>\n",
              "      <th>orgyear</th>\n",
              "      <th>ctc</th>\n",
              "      <th>job_position</th>\n",
              "      <th>ctc_updated_year</th>\n",
              "      <th>years_of_Experience</th>\n",
              "      <th>designation</th>\n",
              "      <th>class</th>\n",
              "      <th>tier</th>\n",
              "    </tr>\n",
              "  </thead>\n",
              "  <tbody>\n",
              "    <tr>\n",
              "      <th>8705</th>\n",
              "      <td>bxyhu wgbbhzxwvnxgz</td>\n",
              "      <td>690f6fdab1ab7514a6a9325ebd6cfe910dbf12d46b6fde...</td>\n",
              "      <td>2018.0</td>\n",
              "      <td>4000</td>\n",
              "      <td>data scientist</td>\n",
              "      <td>2019.0</td>\n",
              "      <td>5.0</td>\n",
              "      <td>1</td>\n",
              "      <td>3</td>\n",
              "      <td>3</td>\n",
              "    </tr>\n",
              "    <tr>\n",
              "      <th>10835</th>\n",
              "      <td>srgmvrtast  xzntrrxstzwt ge nyxzso</td>\n",
              "      <td>8001bc017fbe95541d23f5780c3edb988b7d9b2225e39e...</td>\n",
              "      <td>2017.0</td>\n",
              "      <td>4000</td>\n",
              "      <td>data scientist</td>\n",
              "      <td>2019.0</td>\n",
              "      <td>6.0</td>\n",
              "      <td>1</td>\n",
              "      <td>3</td>\n",
              "      <td>3</td>\n",
              "    </tr>\n",
              "    <tr>\n",
              "      <th>51030</th>\n",
              "      <td>onhatzn</td>\n",
              "      <td>bd9c04a574090e05b366a81cdb2f3f565d0c60fa8b1647...</td>\n",
              "      <td>2021.0</td>\n",
              "      <td>6000</td>\n",
              "      <td>data scientist</td>\n",
              "      <td>2019.0</td>\n",
              "      <td>2.0</td>\n",
              "      <td>3</td>\n",
              "      <td>3</td>\n",
              "      <td>3</td>\n",
              "    </tr>\n",
              "    <tr>\n",
              "      <th>136968</th>\n",
              "      <td>ovbohzs trtwnqg btwyvzxwo</td>\n",
              "      <td>e374eea75640881206a21894f69190138c2c0535277dc1...</td>\n",
              "      <td>2017.0</td>\n",
              "      <td>7000</td>\n",
              "      <td>data scientist</td>\n",
              "      <td>2019.0</td>\n",
              "      <td>6.0</td>\n",
              "      <td>3</td>\n",
              "      <td>3</td>\n",
              "      <td>3</td>\n",
              "    </tr>\n",
              "    <tr>\n",
              "      <th>24107</th>\n",
              "      <td>exznqhon ogrhnxgzo ucn rna</td>\n",
              "      <td>ab2dc9db23c3104f0b6b3dbd4cdd5bfb9e5829b8b7943d...</td>\n",
              "      <td>2017.0</td>\n",
              "      <td>7200</td>\n",
              "      <td>data scientist</td>\n",
              "      <td>2019.0</td>\n",
              "      <td>6.0</td>\n",
              "      <td>3</td>\n",
              "      <td>3</td>\n",
              "      <td>3</td>\n",
              "    </tr>\n",
              "    <tr>\n",
              "      <th>...</th>\n",
              "      <td>...</td>\n",
              "      <td>...</td>\n",
              "      <td>...</td>\n",
              "      <td>...</td>\n",
              "      <td>...</td>\n",
              "      <td>...</td>\n",
              "      <td>...</td>\n",
              "      <td>...</td>\n",
              "      <td>...</td>\n",
              "      <td>...</td>\n",
              "    </tr>\n",
              "    <tr>\n",
              "      <th>142436</th>\n",
              "      <td>qdrgsxd</td>\n",
              "      <td>f2dc2d50ba72580f7ebfa3be85499fa3a9c9ab7b4d41c7...</td>\n",
              "      <td>2012.0</td>\n",
              "      <td>3350000</td>\n",
              "      <td>data scientist</td>\n",
              "      <td>2017.0</td>\n",
              "      <td>11.0</td>\n",
              "      <td>1</td>\n",
              "      <td>3</td>\n",
              "      <td>1</td>\n",
              "    </tr>\n",
              "    <tr>\n",
              "      <th>92858</th>\n",
              "      <td>fgqpehoxgz</td>\n",
              "      <td>6f7c8da2e0d377d85a59c64724c73930277065c1510262...</td>\n",
              "      <td>2011.0</td>\n",
              "      <td>3900000</td>\n",
              "      <td>data scientist</td>\n",
              "      <td>2016.0</td>\n",
              "      <td>12.0</td>\n",
              "      <td>1</td>\n",
              "      <td>3</td>\n",
              "      <td>2</td>\n",
              "    </tr>\n",
              "    <tr>\n",
              "      <th>89151</th>\n",
              "      <td>yaew rxet</td>\n",
              "      <td>3d3685ed8b43efc9e478920c55ad9e62b8c7aded2261cd...</td>\n",
              "      <td>1997.0</td>\n",
              "      <td>4000000</td>\n",
              "      <td>data scientist</td>\n",
              "      <td>2019.0</td>\n",
              "      <td>26.0</td>\n",
              "      <td>1</td>\n",
              "      <td>3</td>\n",
              "      <td>1</td>\n",
              "    </tr>\n",
              "    <tr>\n",
              "      <th>17448</th>\n",
              "      <td>xzattawgb</td>\n",
              "      <td>0442787ae22a16022131f18e10e689aca9bfbb193713a7...</td>\n",
              "      <td>2016.0</td>\n",
              "      <td>4800000</td>\n",
              "      <td>data scientist</td>\n",
              "      <td>2019.0</td>\n",
              "      <td>7.0</td>\n",
              "      <td>3</td>\n",
              "      <td>3</td>\n",
              "      <td>1</td>\n",
              "    </tr>\n",
              "    <tr>\n",
              "      <th>107038</th>\n",
              "      <td>wvqttb</td>\n",
              "      <td>0485990d28fdbb10e494793b31dd97f94c326a93c07a2d...</td>\n",
              "      <td>2014.0</td>\n",
              "      <td>7000000</td>\n",
              "      <td>data scientist</td>\n",
              "      <td>2020.0</td>\n",
              "      <td>9.0</td>\n",
              "      <td>1</td>\n",
              "      <td>3</td>\n",
              "      <td>3</td>\n",
              "    </tr>\n",
              "  </tbody>\n",
              "</table>\n",
              "<p>1280 rows × 10 columns</p>\n",
              "</div>"
            ],
            "text/plain": [
              "                              company_hash  \\\n",
              "8705                   bxyhu wgbbhzxwvnxgz   \n",
              "10835   srgmvrtast  xzntrrxstzwt ge nyxzso   \n",
              "51030                              onhatzn   \n",
              "136968           ovbohzs trtwnqg btwyvzxwo   \n",
              "24107           exznqhon ogrhnxgzo ucn rna   \n",
              "...                                    ...   \n",
              "142436                             qdrgsxd   \n",
              "92858                           fgqpehoxgz   \n",
              "89151                            yaew rxet   \n",
              "17448                            xzattawgb   \n",
              "107038                              wvqttb   \n",
              "\n",
              "                                               email_hash  orgyear      ctc  \\\n",
              "8705    690f6fdab1ab7514a6a9325ebd6cfe910dbf12d46b6fde...   2018.0     4000   \n",
              "10835   8001bc017fbe95541d23f5780c3edb988b7d9b2225e39e...   2017.0     4000   \n",
              "51030   bd9c04a574090e05b366a81cdb2f3f565d0c60fa8b1647...   2021.0     6000   \n",
              "136968  e374eea75640881206a21894f69190138c2c0535277dc1...   2017.0     7000   \n",
              "24107   ab2dc9db23c3104f0b6b3dbd4cdd5bfb9e5829b8b7943d...   2017.0     7200   \n",
              "...                                                   ...      ...      ...   \n",
              "142436  f2dc2d50ba72580f7ebfa3be85499fa3a9c9ab7b4d41c7...   2012.0  3350000   \n",
              "92858   6f7c8da2e0d377d85a59c64724c73930277065c1510262...   2011.0  3900000   \n",
              "89151   3d3685ed8b43efc9e478920c55ad9e62b8c7aded2261cd...   1997.0  4000000   \n",
              "17448   0442787ae22a16022131f18e10e689aca9bfbb193713a7...   2016.0  4800000   \n",
              "107038  0485990d28fdbb10e494793b31dd97f94c326a93c07a2d...   2014.0  7000000   \n",
              "\n",
              "          job_position  ctc_updated_year  years_of_Experience  designation  \\\n",
              "8705    data scientist            2019.0                  5.0            1   \n",
              "10835   data scientist            2019.0                  6.0            1   \n",
              "51030   data scientist            2019.0                  2.0            3   \n",
              "136968  data scientist            2019.0                  6.0            3   \n",
              "24107   data scientist            2019.0                  6.0            3   \n",
              "...                ...               ...                  ...          ...   \n",
              "142436  data scientist            2017.0                 11.0            1   \n",
              "92858   data scientist            2016.0                 12.0            1   \n",
              "89151   data scientist            2019.0                 26.0            1   \n",
              "17448   data scientist            2019.0                  7.0            3   \n",
              "107038  data scientist            2020.0                  9.0            1   \n",
              "\n",
              "        class  tier  \n",
              "8705        3     3  \n",
              "10835       3     3  \n",
              "51030       3     3  \n",
              "136968      3     3  \n",
              "24107       3     3  \n",
              "...       ...   ...  \n",
              "142436      3     1  \n",
              "92858       3     2  \n",
              "89151       3     1  \n",
              "17448       3     1  \n",
              "107038      3     3  \n",
              "\n",
              "[1280 rows x 10 columns]"
            ]
          },
          "execution_count": 402,
          "metadata": {},
          "output_type": "execute_result"
        }
      ],
      "source": [
        "df[(df['class'] == 3) & (df.job_position=='data scientist')].sort_values('ctc').groupby('company_hash').head(10)"
      ]
    },
    {
      "cell_type": "markdown",
      "id": "0d283e61",
      "metadata": {
        "id": "0d283e61"
      },
      "source": [
        "***4) Bottom 10 employees (earning less than most of the employees in the company)- Tier 3***"
      ]
    },
    {
      "cell_type": "code",
      "execution_count": null,
      "id": "3388519a",
      "metadata": {
        "id": "3388519a",
        "outputId": "bed1b08c-7555-4268-cccc-896051a563dc"
      },
      "outputs": [
        {
          "data": {
            "text/html": [
              "<div>\n",
              "<style scoped>\n",
              "    .dataframe tbody tr th:only-of-type {\n",
              "        vertical-align: middle;\n",
              "    }\n",
              "\n",
              "    .dataframe tbody tr th {\n",
              "        vertical-align: top;\n",
              "    }\n",
              "\n",
              "    .dataframe thead th {\n",
              "        text-align: right;\n",
              "    }\n",
              "</style>\n",
              "<table border=\"1\" class=\"dataframe\">\n",
              "  <thead>\n",
              "    <tr style=\"text-align: right;\">\n",
              "      <th></th>\n",
              "      <th>company_hash</th>\n",
              "      <th>email_hash</th>\n",
              "      <th>orgyear</th>\n",
              "      <th>ctc</th>\n",
              "      <th>job_position</th>\n",
              "      <th>ctc_updated_year</th>\n",
              "      <th>years_of_Experience</th>\n",
              "      <th>designation</th>\n",
              "      <th>class</th>\n",
              "      <th>tier</th>\n",
              "    </tr>\n",
              "  </thead>\n",
              "  <tbody>\n",
              "    <tr>\n",
              "      <th>135435</th>\n",
              "      <td>xzntqcxtfmxn</td>\n",
              "      <td>3505b02549ebe2c95840ac6f0a35561a3b4cbe4b79cdb1...</td>\n",
              "      <td>2014.0</td>\n",
              "      <td>2</td>\n",
              "      <td>backend engineer</td>\n",
              "      <td>2019.0</td>\n",
              "      <td>9.0</td>\n",
              "      <td>3</td>\n",
              "      <td>3</td>\n",
              "      <td>3</td>\n",
              "    </tr>\n",
              "    <tr>\n",
              "      <th>118236</th>\n",
              "      <td>xzntqcxtfmxn</td>\n",
              "      <td>f2b58aeed3c074652de2cfd3c0717a5d21d6fbcf342a78...</td>\n",
              "      <td>2013.0</td>\n",
              "      <td>6</td>\n",
              "      <td>other</td>\n",
              "      <td>2018.0</td>\n",
              "      <td>10.0</td>\n",
              "      <td>3</td>\n",
              "      <td>3</td>\n",
              "      <td>3</td>\n",
              "    </tr>\n",
              "    <tr>\n",
              "      <th>114164</th>\n",
              "      <td>xzntqcxtfmxn</td>\n",
              "      <td>23ad96d6b6f1ecf554a52f6e9b61677c7d73d8a409a143...</td>\n",
              "      <td>2013.0</td>\n",
              "      <td>14</td>\n",
              "      <td>other</td>\n",
              "      <td>2018.0</td>\n",
              "      <td>10.0</td>\n",
              "      <td>1</td>\n",
              "      <td>3</td>\n",
              "      <td>3</td>\n",
              "    </tr>\n",
              "    <tr>\n",
              "      <th>184946</th>\n",
              "      <td>xm</td>\n",
              "      <td>b8a0bb340583936b5a7923947e9aec21add5ebc50cd60b...</td>\n",
              "      <td>2016.0</td>\n",
              "      <td>15</td>\n",
              "      <td>other</td>\n",
              "      <td>2018.0</td>\n",
              "      <td>7.0</td>\n",
              "      <td>1</td>\n",
              "      <td>3</td>\n",
              "      <td>3</td>\n",
              "    </tr>\n",
              "    <tr>\n",
              "      <th>116946</th>\n",
              "      <td>hzxctqoxnj ge fvoyxzsngz</td>\n",
              "      <td>f7e5e788676100d7c4146740ada9e2f8974defc01f571d...</td>\n",
              "      <td>2022.0</td>\n",
              "      <td>200</td>\n",
              "      <td>other</td>\n",
              "      <td>2021.0</td>\n",
              "      <td>1.0</td>\n",
              "      <td>1</td>\n",
              "      <td>3</td>\n",
              "      <td>3</td>\n",
              "    </tr>\n",
              "    <tr>\n",
              "      <th>...</th>\n",
              "      <td>...</td>\n",
              "      <td>...</td>\n",
              "      <td>...</td>\n",
              "      <td>...</td>\n",
              "      <td>...</td>\n",
              "      <td>...</td>\n",
              "      <td>...</td>\n",
              "      <td>...</td>\n",
              "      <td>...</td>\n",
              "      <td>...</td>\n",
              "    </tr>\n",
              "    <tr>\n",
              "      <th>25102</th>\n",
              "      <td>fvqsvbxzs</td>\n",
              "      <td>299864b7e8f632bfd7079ac1f97a18371f413dfb06a2dd...</td>\n",
              "      <td>2006.0</td>\n",
              "      <td>10000000</td>\n",
              "      <td>devops engineer</td>\n",
              "      <td>2020.0</td>\n",
              "      <td>17.0</td>\n",
              "      <td>1</td>\n",
              "      <td>1</td>\n",
              "      <td>3</td>\n",
              "    </tr>\n",
              "    <tr>\n",
              "      <th>16082</th>\n",
              "      <td>mqxwponttr tzntquqxoto uqxcvnt rxbxnta</td>\n",
              "      <td>5cb0417e963b2bb218dc28cbe0c9003c39c4f2db94bb53...</td>\n",
              "      <td>2016.0</td>\n",
              "      <td>10100000</td>\n",
              "      <td>qa engineer</td>\n",
              "      <td>2019.0</td>\n",
              "      <td>7.0</td>\n",
              "      <td>3</td>\n",
              "      <td>3</td>\n",
              "      <td>3</td>\n",
              "    </tr>\n",
              "    <tr>\n",
              "      <th>10915</th>\n",
              "      <td>mqxwponttr tzntquqxoto uqxcvnt rxbxnta</td>\n",
              "      <td>5cb0417e963b2bb218dc28cbe0c9003c39c4f2db94bb53...</td>\n",
              "      <td>2016.0</td>\n",
              "      <td>10100000</td>\n",
              "      <td>other</td>\n",
              "      <td>2019.0</td>\n",
              "      <td>7.0</td>\n",
              "      <td>3</td>\n",
              "      <td>3</td>\n",
              "      <td>3</td>\n",
              "    </tr>\n",
              "    <tr>\n",
              "      <th>7051</th>\n",
              "      <td>ho mvzp</td>\n",
              "      <td>7ffb1e475e90f5bcb65de6664f24820a0049992f50cddd...</td>\n",
              "      <td>2017.0</td>\n",
              "      <td>12000000</td>\n",
              "      <td>engineering leadership</td>\n",
              "      <td>2020.0</td>\n",
              "      <td>6.0</td>\n",
              "      <td>1</td>\n",
              "      <td>1</td>\n",
              "      <td>3</td>\n",
              "    </tr>\n",
              "    <tr>\n",
              "      <th>108209</th>\n",
              "      <td>aggqavoy</td>\n",
              "      <td>68f1fea4dbfb7ae2209664b93d5f57fb86912dbe516b37...</td>\n",
              "      <td>2018.0</td>\n",
              "      <td>13500000</td>\n",
              "      <td>backend engineer</td>\n",
              "      <td>2020.0</td>\n",
              "      <td>5.0</td>\n",
              "      <td>1</td>\n",
              "      <td>1</td>\n",
              "      <td>3</td>\n",
              "    </tr>\n",
              "  </tbody>\n",
              "</table>\n",
              "<p>25958 rows × 10 columns</p>\n",
              "</div>"
            ],
            "text/plain": [
              "                                  company_hash  \\\n",
              "135435                            xzntqcxtfmxn   \n",
              "118236                            xzntqcxtfmxn   \n",
              "114164                            xzntqcxtfmxn   \n",
              "184946                                      xm   \n",
              "116946                hzxctqoxnj ge fvoyxzsngz   \n",
              "...                                        ...   \n",
              "25102                                fvqsvbxzs   \n",
              "16082   mqxwponttr tzntquqxoto uqxcvnt rxbxnta   \n",
              "10915   mqxwponttr tzntquqxoto uqxcvnt rxbxnta   \n",
              "7051                                   ho mvzp   \n",
              "108209                                aggqavoy   \n",
              "\n",
              "                                               email_hash  orgyear       ctc  \\\n",
              "135435  3505b02549ebe2c95840ac6f0a35561a3b4cbe4b79cdb1...   2014.0         2   \n",
              "118236  f2b58aeed3c074652de2cfd3c0717a5d21d6fbcf342a78...   2013.0         6   \n",
              "114164  23ad96d6b6f1ecf554a52f6e9b61677c7d73d8a409a143...   2013.0        14   \n",
              "184946  b8a0bb340583936b5a7923947e9aec21add5ebc50cd60b...   2016.0        15   \n",
              "116946  f7e5e788676100d7c4146740ada9e2f8974defc01f571d...   2022.0       200   \n",
              "...                                                   ...      ...       ...   \n",
              "25102   299864b7e8f632bfd7079ac1f97a18371f413dfb06a2dd...   2006.0  10000000   \n",
              "16082   5cb0417e963b2bb218dc28cbe0c9003c39c4f2db94bb53...   2016.0  10100000   \n",
              "10915   5cb0417e963b2bb218dc28cbe0c9003c39c4f2db94bb53...   2016.0  10100000   \n",
              "7051    7ffb1e475e90f5bcb65de6664f24820a0049992f50cddd...   2017.0  12000000   \n",
              "108209  68f1fea4dbfb7ae2209664b93d5f57fb86912dbe516b37...   2018.0  13500000   \n",
              "\n",
              "                  job_position  ctc_updated_year  years_of_Experience  \\\n",
              "135435        backend engineer            2019.0                  9.0   \n",
              "118236                   other            2018.0                 10.0   \n",
              "114164                   other            2018.0                 10.0   \n",
              "184946                   other            2018.0                  7.0   \n",
              "116946                   other            2021.0                  1.0   \n",
              "...                        ...               ...                  ...   \n",
              "25102          devops engineer            2020.0                 17.0   \n",
              "16082              qa engineer            2019.0                  7.0   \n",
              "10915                    other            2019.0                  7.0   \n",
              "7051    engineering leadership            2020.0                  6.0   \n",
              "108209        backend engineer            2020.0                  5.0   \n",
              "\n",
              "        designation  class  tier  \n",
              "135435            3      3     3  \n",
              "118236            3      3     3  \n",
              "114164            1      3     3  \n",
              "184946            1      3     3  \n",
              "116946            1      3     3  \n",
              "...             ...    ...   ...  \n",
              "25102             1      1     3  \n",
              "16082             3      3     3  \n",
              "10915             3      3     3  \n",
              "7051              1      1     3  \n",
              "108209            1      1     3  \n",
              "\n",
              "[25958 rows x 10 columns]"
            ]
          },
          "execution_count": 403,
          "metadata": {},
          "output_type": "execute_result"
        }
      ],
      "source": [
        "df[df.tier == 3].sort_values('ctc').groupby('company_hash').head(10)"
      ]
    },
    {
      "cell_type": "markdown",
      "id": "12ddf101",
      "metadata": {
        "id": "12ddf101"
      },
      "source": [
        "***5) Top 10 employees in Amazon- X department - having 5/6/7 years of experience earning more than their peers - Tier X***"
      ]
    },
    {
      "cell_type": "code",
      "execution_count": null,
      "id": "6512e7ac",
      "metadata": {
        "id": "6512e7ac",
        "outputId": "39bedd3d-1af6-423e-a27b-7a383ca2d17e"
      },
      "outputs": [
        {
          "data": {
            "text/html": [
              "<div>\n",
              "<style scoped>\n",
              "    .dataframe tbody tr th:only-of-type {\n",
              "        vertical-align: middle;\n",
              "    }\n",
              "\n",
              "    .dataframe tbody tr th {\n",
              "        vertical-align: top;\n",
              "    }\n",
              "\n",
              "    .dataframe thead th {\n",
              "        text-align: right;\n",
              "    }\n",
              "</style>\n",
              "<table border=\"1\" class=\"dataframe\">\n",
              "  <thead>\n",
              "    <tr style=\"text-align: right;\">\n",
              "      <th></th>\n",
              "      <th>company_hash</th>\n",
              "      <th>email_hash</th>\n",
              "      <th>orgyear</th>\n",
              "      <th>ctc</th>\n",
              "      <th>job_position</th>\n",
              "      <th>ctc_updated_year</th>\n",
              "      <th>years_of_Experience</th>\n",
              "      <th>designation</th>\n",
              "      <th>class</th>\n",
              "      <th>tier</th>\n",
              "    </tr>\n",
              "  </thead>\n",
              "  <tbody>\n",
              "    <tr>\n",
              "      <th>117636</th>\n",
              "      <td>obvqnuqxdwgb</td>\n",
              "      <td>5b4bed51797140db4ed52018a979db1e34cee49e27b488...</td>\n",
              "      <td>2018.0</td>\n",
              "      <td>255555555</td>\n",
              "      <td>other</td>\n",
              "      <td>2016.0</td>\n",
              "      <td>5.0</td>\n",
              "      <td>1</td>\n",
              "      <td>1</td>\n",
              "      <td>1</td>\n",
              "    </tr>\n",
              "    <tr>\n",
              "      <th>76936</th>\n",
              "      <td>mvqwrvjo</td>\n",
              "      <td>b8b576fd606f6864b9cc046a8d2cbd582e1cf87009c9b4...</td>\n",
              "      <td>2017.0</td>\n",
              "      <td>200000000</td>\n",
              "      <td>other</td>\n",
              "      <td>2019.0</td>\n",
              "      <td>6.0</td>\n",
              "      <td>1</td>\n",
              "      <td>1</td>\n",
              "      <td>1</td>\n",
              "    </tr>\n",
              "    <tr>\n",
              "      <th>22918</th>\n",
              "      <td>wgszxkvzn</td>\n",
              "      <td>d29d249144f337486a9efc90daf6659706225efc07466e...</td>\n",
              "      <td>2017.0</td>\n",
              "      <td>200000000</td>\n",
              "      <td>other</td>\n",
              "      <td>2020.0</td>\n",
              "      <td>6.0</td>\n",
              "      <td>1</td>\n",
              "      <td>1</td>\n",
              "      <td>1</td>\n",
              "    </tr>\n",
              "    <tr>\n",
              "      <th>72673</th>\n",
              "      <td>zvz</td>\n",
              "      <td>32cf1684e327700efc6e15a91e3a7240ec73b4d6270b66...</td>\n",
              "      <td>2016.0</td>\n",
              "      <td>200000000</td>\n",
              "      <td>other</td>\n",
              "      <td>2020.0</td>\n",
              "      <td>7.0</td>\n",
              "      <td>1</td>\n",
              "      <td>1</td>\n",
              "      <td>1</td>\n",
              "    </tr>\n",
              "    <tr>\n",
              "      <th>10401</th>\n",
              "      <td>mtwngz axwpxzogz</td>\n",
              "      <td>74f506e2567fb54995842894d2021582effbcde027d8e3...</td>\n",
              "      <td>2016.0</td>\n",
              "      <td>200000000</td>\n",
              "      <td>qa engineer</td>\n",
              "      <td>2020.0</td>\n",
              "      <td>7.0</td>\n",
              "      <td>1</td>\n",
              "      <td>1</td>\n",
              "      <td>1</td>\n",
              "    </tr>\n",
              "    <tr>\n",
              "      <th>...</th>\n",
              "      <td>...</td>\n",
              "      <td>...</td>\n",
              "      <td>...</td>\n",
              "      <td>...</td>\n",
              "      <td>...</td>\n",
              "      <td>...</td>\n",
              "      <td>...</td>\n",
              "      <td>...</td>\n",
              "      <td>...</td>\n",
              "      <td>...</td>\n",
              "    </tr>\n",
              "    <tr>\n",
              "      <th>88835</th>\n",
              "      <td>wgd vhngbgnxct xzw</td>\n",
              "      <td>4d18008fc2cb66e4b90f3798ccbbc4792dfd4bad5a7a87...</td>\n",
              "      <td>2016.0</td>\n",
              "      <td>1000</td>\n",
              "      <td>fullstack engineer</td>\n",
              "      <td>2019.0</td>\n",
              "      <td>7.0</td>\n",
              "      <td>3</td>\n",
              "      <td>3</td>\n",
              "      <td>3</td>\n",
              "    </tr>\n",
              "    <tr>\n",
              "      <th>115946</th>\n",
              "      <td>hzxctqoxnj ge mqvorxv</td>\n",
              "      <td>17d8033c8e687eb49b457eee71486b01c2c587812382ac...</td>\n",
              "      <td>2016.0</td>\n",
              "      <td>1000</td>\n",
              "      <td>other</td>\n",
              "      <td>2015.0</td>\n",
              "      <td>7.0</td>\n",
              "      <td>1</td>\n",
              "      <td>1</td>\n",
              "      <td>1</td>\n",
              "    </tr>\n",
              "    <tr>\n",
              "      <th>82028</th>\n",
              "      <td>uqgmrtb ogrcxzs</td>\n",
              "      <td>edcfb902656b736e1f35863298706d9d34ee795b7ed85a...</td>\n",
              "      <td>2018.0</td>\n",
              "      <td>500</td>\n",
              "      <td>cofounder</td>\n",
              "      <td>2019.0</td>\n",
              "      <td>5.0</td>\n",
              "      <td>1</td>\n",
              "      <td>1</td>\n",
              "      <td>1</td>\n",
              "    </tr>\n",
              "    <tr>\n",
              "      <th>91552</th>\n",
              "      <td>ftm ongqt</td>\n",
              "      <td>512f761579fb116e215cabc9821c7f81153f0763e16018...</td>\n",
              "      <td>2016.0</td>\n",
              "      <td>25</td>\n",
              "      <td>android engineer</td>\n",
              "      <td>2018.0</td>\n",
              "      <td>7.0</td>\n",
              "      <td>1</td>\n",
              "      <td>1</td>\n",
              "      <td>1</td>\n",
              "    </tr>\n",
              "    <tr>\n",
              "      <th>184946</th>\n",
              "      <td>xm</td>\n",
              "      <td>b8a0bb340583936b5a7923947e9aec21add5ebc50cd60b...</td>\n",
              "      <td>2016.0</td>\n",
              "      <td>15</td>\n",
              "      <td>other</td>\n",
              "      <td>2018.0</td>\n",
              "      <td>7.0</td>\n",
              "      <td>1</td>\n",
              "      <td>3</td>\n",
              "      <td>3</td>\n",
              "    </tr>\n",
              "  </tbody>\n",
              "</table>\n",
              "<p>33264 rows × 10 columns</p>\n",
              "</div>"
            ],
            "text/plain": [
              "                 company_hash  \\\n",
              "117636           obvqnuqxdwgb   \n",
              "76936                mvqwrvjo   \n",
              "22918               wgszxkvzn   \n",
              "72673                     zvz   \n",
              "10401        mtwngz axwpxzogz   \n",
              "...                       ...   \n",
              "88835      wgd vhngbgnxct xzw   \n",
              "115946  hzxctqoxnj ge mqvorxv   \n",
              "82028         uqgmrtb ogrcxzs   \n",
              "91552               ftm ongqt   \n",
              "184946                     xm   \n",
              "\n",
              "                                               email_hash  orgyear        ctc  \\\n",
              "117636  5b4bed51797140db4ed52018a979db1e34cee49e27b488...   2018.0  255555555   \n",
              "76936   b8b576fd606f6864b9cc046a8d2cbd582e1cf87009c9b4...   2017.0  200000000   \n",
              "22918   d29d249144f337486a9efc90daf6659706225efc07466e...   2017.0  200000000   \n",
              "72673   32cf1684e327700efc6e15a91e3a7240ec73b4d6270b66...   2016.0  200000000   \n",
              "10401   74f506e2567fb54995842894d2021582effbcde027d8e3...   2016.0  200000000   \n",
              "...                                                   ...      ...        ...   \n",
              "88835   4d18008fc2cb66e4b90f3798ccbbc4792dfd4bad5a7a87...   2016.0       1000   \n",
              "115946  17d8033c8e687eb49b457eee71486b01c2c587812382ac...   2016.0       1000   \n",
              "82028   edcfb902656b736e1f35863298706d9d34ee795b7ed85a...   2018.0        500   \n",
              "91552   512f761579fb116e215cabc9821c7f81153f0763e16018...   2016.0         25   \n",
              "184946  b8a0bb340583936b5a7923947e9aec21add5ebc50cd60b...   2016.0         15   \n",
              "\n",
              "              job_position  ctc_updated_year  years_of_Experience  \\\n",
              "117636               other            2016.0                  5.0   \n",
              "76936                other            2019.0                  6.0   \n",
              "22918                other            2020.0                  6.0   \n",
              "72673                other            2020.0                  7.0   \n",
              "10401          qa engineer            2020.0                  7.0   \n",
              "...                    ...               ...                  ...   \n",
              "88835   fullstack engineer            2019.0                  7.0   \n",
              "115946               other            2015.0                  7.0   \n",
              "82028            cofounder            2019.0                  5.0   \n",
              "91552     android engineer            2018.0                  7.0   \n",
              "184946               other            2018.0                  7.0   \n",
              "\n",
              "        designation  class  tier  \n",
              "117636            1      1     1  \n",
              "76936             1      1     1  \n",
              "22918             1      1     1  \n",
              "72673             1      1     1  \n",
              "10401             1      1     1  \n",
              "...             ...    ...   ...  \n",
              "88835             3      3     3  \n",
              "115946            1      1     1  \n",
              "82028             1      1     1  \n",
              "91552             1      1     1  \n",
              "184946            1      3     3  \n",
              "\n",
              "[33264 rows x 10 columns]"
            ]
          },
          "execution_count": 404,
          "metadata": {},
          "output_type": "execute_result"
        }
      ],
      "source": [
        "df[(df.years_of_Experience == 5) | (df.years_of_Experience == 6) | (df.years_of_Experience == 7)].sort_values('ctc',ascending=False).groupby('company_hash').head(10)"
      ]
    },
    {
      "cell_type": "markdown",
      "id": "afd574ea",
      "metadata": {
        "id": "afd574ea"
      },
      "source": [
        "***6) Top 10 companies (based on their CTC)***"
      ]
    },
    {
      "cell_type": "code",
      "execution_count": null,
      "id": "aa2e985b",
      "metadata": {
        "id": "aa2e985b",
        "outputId": "30b31414-621b-4f98-9eeb-0420476ef870"
      },
      "outputs": [
        {
          "data": {
            "text/html": [
              "<div>\n",
              "<style scoped>\n",
              "    .dataframe tbody tr th:only-of-type {\n",
              "        vertical-align: middle;\n",
              "    }\n",
              "\n",
              "    .dataframe tbody tr th {\n",
              "        vertical-align: top;\n",
              "    }\n",
              "\n",
              "    .dataframe thead th {\n",
              "        text-align: right;\n",
              "    }\n",
              "</style>\n",
              "<table border=\"1\" class=\"dataframe\">\n",
              "  <thead>\n",
              "    <tr style=\"text-align: right;\">\n",
              "      <th></th>\n",
              "      <th>company_hash</th>\n",
              "    </tr>\n",
              "  </thead>\n",
              "  <tbody>\n",
              "    <tr>\n",
              "      <th>0</th>\n",
              "      <td>whmxw rgsxwo uqxcvnt rxbxnta</td>\n",
              "    </tr>\n",
              "    <tr>\n",
              "      <th>1</th>\n",
              "      <td>aveegaxr xzntqzvnxgzvr hzxctqoxnj</td>\n",
              "    </tr>\n",
              "    <tr>\n",
              "      <th>2</th>\n",
              "      <td>apvnxv</td>\n",
              "    </tr>\n",
              "    <tr>\n",
              "      <th>3</th>\n",
              "      <td>outwnqt vzvrjnxwv</td>\n",
              "    </tr>\n",
              "    <tr>\n",
              "      <th>4</th>\n",
              "      <td>otg tdtwhnxct</td>\n",
              "    </tr>\n",
              "    <tr>\n",
              "      <th>5</th>\n",
              "      <td>ihvrxnvo srgmvr rru</td>\n",
              "    </tr>\n",
              "    <tr>\n",
              "      <th>6</th>\n",
              "      <td>bvqctr xzegwgbb ucn rna</td>\n",
              "    </tr>\n",
              "    <tr>\n",
              "      <th>7</th>\n",
              "      <td>ama uqgltwno rxbxnta</td>\n",
              "    </tr>\n",
              "    <tr>\n",
              "      <th>8</th>\n",
              "      <td>qvaxwvr bxzao ntwyzgrgsj ucn rna</td>\n",
              "    </tr>\n",
              "    <tr>\n",
              "      <th>9</th>\n",
              "      <td>mvpyntq nqvaxzs</td>\n",
              "    </tr>\n",
              "  </tbody>\n",
              "</table>\n",
              "</div>"
            ],
            "text/plain": [
              "                        company_hash\n",
              "0       whmxw rgsxwo uqxcvnt rxbxnta\n",
              "1  aveegaxr xzntqzvnxgzvr hzxctqoxnj\n",
              "2                             apvnxv\n",
              "3                  outwnqt vzvrjnxwv\n",
              "4                      otg tdtwhnxct\n",
              "5                ihvrxnvo srgmvr rru\n",
              "6            bvqctr xzegwgbb ucn rna\n",
              "7               ama uqgltwno rxbxnta\n",
              "8   qvaxwvr bxzao ntwyzgrgsj ucn rna\n",
              "9                    mvpyntq nqvaxzs"
            ]
          },
          "execution_count": 405,
          "metadata": {},
          "output_type": "execute_result"
        }
      ],
      "source": [
        "pd.DataFrame(df.groupby('company_hash').ctc.describe()['50%'].sort_values(ascending=False).head(10)).reset_index()[['company_hash']]"
      ]
    },
    {
      "cell_type": "markdown",
      "id": "44de74a2",
      "metadata": {
        "id": "44de74a2"
      },
      "source": [
        "***7) Top 2 positions in every company (based on their CTC)***"
      ]
    },
    {
      "cell_type": "code",
      "execution_count": null,
      "id": "24d3f990",
      "metadata": {
        "id": "24d3f990",
        "outputId": "71ce0835-60a5-4e7b-abcb-56fabd8816ab"
      },
      "outputs": [
        {
          "data": {
            "text/html": [
              "<div>\n",
              "<style scoped>\n",
              "    .dataframe tbody tr th:only-of-type {\n",
              "        vertical-align: middle;\n",
              "    }\n",
              "\n",
              "    .dataframe tbody tr th {\n",
              "        vertical-align: top;\n",
              "    }\n",
              "\n",
              "    .dataframe thead th {\n",
              "        text-align: right;\n",
              "    }\n",
              "</style>\n",
              "<table border=\"1\" class=\"dataframe\">\n",
              "  <thead>\n",
              "    <tr style=\"text-align: right;\">\n",
              "      <th></th>\n",
              "      <th>company_hash</th>\n",
              "      <th>job_position</th>\n",
              "    </tr>\n",
              "  </thead>\n",
              "  <tbody>\n",
              "    <tr>\n",
              "      <th>0</th>\n",
              "      <td>whmxw rgsxwo uqxcvnt rxbxnta</td>\n",
              "      <td>other</td>\n",
              "    </tr>\n",
              "    <tr>\n",
              "      <th>1</th>\n",
              "      <td>aveegaxr xzntqzvnxgzvr hzxctqoxnj</td>\n",
              "      <td>other</td>\n",
              "    </tr>\n",
              "    <tr>\n",
              "      <th>2</th>\n",
              "      <td>agyv tdnqvwg</td>\n",
              "      <td>other</td>\n",
              "    </tr>\n",
              "    <tr>\n",
              "      <th>3</th>\n",
              "      <td>bgax uqgltwn rxbxnta</td>\n",
              "      <td>qa engineer</td>\n",
              "    </tr>\n",
              "    <tr>\n",
              "      <th>4</th>\n",
              "      <td>qn</td>\n",
              "      <td>engineering intern</td>\n",
              "    </tr>\n",
              "    <tr>\n",
              "      <th>...</th>\n",
              "      <td>...</td>\n",
              "      <td>...</td>\n",
              "    </tr>\n",
              "    <tr>\n",
              "      <th>49489</th>\n",
              "      <td>uqgmrtb ogrcxzs</td>\n",
              "      <td>cofounder</td>\n",
              "    </tr>\n",
              "    <tr>\n",
              "      <th>49490</th>\n",
              "      <td>vcvzn sqghu</td>\n",
              "      <td>database administrator</td>\n",
              "    </tr>\n",
              "    <tr>\n",
              "      <th>49491</th>\n",
              "      <td>ftm ongqt</td>\n",
              "      <td>android engineer</td>\n",
              "    </tr>\n",
              "    <tr>\n",
              "      <th>49492</th>\n",
              "      <td>uqvpqxnx voogwxvnto</td>\n",
              "      <td>other</td>\n",
              "    </tr>\n",
              "    <tr>\n",
              "      <th>49493</th>\n",
              "      <td>xm</td>\n",
              "      <td>other</td>\n",
              "    </tr>\n",
              "  </tbody>\n",
              "</table>\n",
              "<p>49494 rows × 2 columns</p>\n",
              "</div>"
            ],
            "text/plain": [
              "                            company_hash            job_position\n",
              "0           whmxw rgsxwo uqxcvnt rxbxnta                   other\n",
              "1      aveegaxr xzntqzvnxgzvr hzxctqoxnj                   other\n",
              "2                           agyv tdnqvwg                   other\n",
              "3                   bgax uqgltwn rxbxnta             qa engineer\n",
              "4                                     qn      engineering intern\n",
              "...                                  ...                     ...\n",
              "49489                    uqgmrtb ogrcxzs               cofounder\n",
              "49490                        vcvzn sqghu  database administrator\n",
              "49491                          ftm ongqt        android engineer\n",
              "49492                uqvpqxnx voogwxvnto                   other\n",
              "49493                                 xm                   other\n",
              "\n",
              "[49494 rows x 2 columns]"
            ]
          },
          "execution_count": 406,
          "metadata": {},
          "output_type": "execute_result"
        }
      ],
      "source": [
        "pd.DataFrame(df.groupby(['company_hash','job_position']).ctc.describe()['50%'].sort_values(ascending=False).groupby('company_hash').head(2)).reset_index()[['company_hash','job_position']]"
      ]
    },
    {
      "cell_type": "markdown",
      "id": "ccd04703",
      "metadata": {
        "id": "ccd04703"
      },
      "source": [
        "### Visual Analysis"
      ]
    },
    {
      "cell_type": "markdown",
      "id": "f68f319f",
      "metadata": {
        "id": "f68f319f"
      },
      "source": [
        "#### Univariate Analysis - Continuous Variables"
      ]
    },
    {
      "cell_type": "code",
      "execution_count": null,
      "id": "aece8fcc",
      "metadata": {
        "id": "aece8fcc",
        "outputId": "a216d337-23a0-451e-f1f2-936d6ef65ced"
      },
      "outputs": [
        {
          "data": {
            "image/png": "[encoded data removed]",
            "text/plain": [
              "<Figure size 1440x720 with 4 Axes>"
            ]
          },
          "metadata": {
            "needs_background": "light"
          },
          "output_type": "display_data"
        }
      ],
      "source": [
        "#distplot for Continuous Variables\n",
        "fig,axes =plt.subplots(2,2,figsize=(20, 10))\n",
        "cols=['orgyear', 'ctc', 'ctc_updated_year', 'years_of_Experience']\n",
        "for x in range(len(cols)):\n",
        "    p=sns.distplot(df[cols[x]],ax=axes[x//2,x%2])"
      ]
    },
    {
      "cell_type": "markdown",
      "id": "ab81e399",
      "metadata": {
        "id": "ab81e399"
      },
      "source": [
        "#### Univariate Analysis - Categorical Variables"
      ]
    },
    {
      "cell_type": "code",
      "execution_count": null,
      "id": "a16d5711",
      "metadata": {
        "id": "a16d5711",
        "outputId": "054a7505-9aea-4609-ecb7-6b2f5af6ab77"
      },
      "outputs": [
        {
          "data": {
            "image/png": "[encoded data removed]",
            "text/plain": [
              "<Figure size 1440x720 with 4 Axes>"
            ]
          },
          "metadata": {
            "needs_background": "light"
          },
          "output_type": "display_data"
        }
      ],
      "source": [
        "# countplot for categorical columns\n",
        "fig,axes=plt.subplots(2,2,figsize=(20, 10))\n",
        "cols=['designation', 'class','tier']\n",
        "for x in range(len(cols)):\n",
        "    p=sns.countplot(df[cols[x]],ax=axes[x//2,x%2])"
      ]
    },
    {
      "cell_type": "markdown",
      "id": "185604a3",
      "metadata": {
        "id": "185604a3"
      },
      "source": [
        "#### Bivariate Analysis"
      ]
    },
    {
      "cell_type": "code",
      "execution_count": null,
      "id": "7fe0f415",
      "metadata": {
        "id": "7fe0f415",
        "outputId": "d1c4bb5d-8042-402b-b56f-7100d0f23e19"
      },
      "outputs": [
        {
          "data": {
            "text/html": [
              "<div>\n",
              "<style scoped>\n",
              "    .dataframe tbody tr th:only-of-type {\n",
              "        vertical-align: middle;\n",
              "    }\n",
              "\n",
              "    .dataframe tbody tr th {\n",
              "        vertical-align: top;\n",
              "    }\n",
              "\n",
              "    .dataframe thead th {\n",
              "        text-align: right;\n",
              "    }\n",
              "</style>\n",
              "<table border=\"1\" class=\"dataframe\">\n",
              "  <thead>\n",
              "    <tr style=\"text-align: right;\">\n",
              "      <th></th>\n",
              "      <th>orgyear</th>\n",
              "      <th>ctc</th>\n",
              "      <th>ctc_updated_year</th>\n",
              "      <th>years_of_Experience</th>\n",
              "      <th>designation</th>\n",
              "      <th>class</th>\n",
              "      <th>tier</th>\n",
              "    </tr>\n",
              "  </thead>\n",
              "  <tbody>\n",
              "    <tr>\n",
              "      <th>orgyear</th>\n",
              "      <td>1.000000</td>\n",
              "      <td>-0.024789</td>\n",
              "      <td>0.213728</td>\n",
              "      <td>-1.000000</td>\n",
              "      <td>0.157225</td>\n",
              "      <td>0.239061</td>\n",
              "      <td>0.281188</td>\n",
              "    </tr>\n",
              "    <tr>\n",
              "      <th>ctc</th>\n",
              "      <td>-0.024789</td>\n",
              "      <td>1.000000</td>\n",
              "      <td>0.015539</td>\n",
              "      <td>0.024789</td>\n",
              "      <td>-0.081753</td>\n",
              "      <td>-0.109889</td>\n",
              "      <td>-0.131515</td>\n",
              "    </tr>\n",
              "    <tr>\n",
              "      <th>ctc_updated_year</th>\n",
              "      <td>0.213728</td>\n",
              "      <td>0.015539</td>\n",
              "      <td>1.000000</td>\n",
              "      <td>-0.213728</td>\n",
              "      <td>-0.030726</td>\n",
              "      <td>-0.026604</td>\n",
              "      <td>-0.042827</td>\n",
              "    </tr>\n",
              "    <tr>\n",
              "      <th>years_of_Experience</th>\n",
              "      <td>-1.000000</td>\n",
              "      <td>0.024789</td>\n",
              "      <td>-0.213728</td>\n",
              "      <td>1.000000</td>\n",
              "      <td>-0.157225</td>\n",
              "      <td>-0.239061</td>\n",
              "      <td>-0.281188</td>\n",
              "    </tr>\n",
              "    <tr>\n",
              "      <th>designation</th>\n",
              "      <td>0.157225</td>\n",
              "      <td>-0.081753</td>\n",
              "      <td>-0.030726</td>\n",
              "      <td>-0.157225</td>\n",
              "      <td>1.000000</td>\n",
              "      <td>0.662059</td>\n",
              "      <td>0.548810</td>\n",
              "    </tr>\n",
              "    <tr>\n",
              "      <th>class</th>\n",
              "      <td>0.239061</td>\n",
              "      <td>-0.109889</td>\n",
              "      <td>-0.026604</td>\n",
              "      <td>-0.239061</td>\n",
              "      <td>0.662059</td>\n",
              "      <td>1.000000</td>\n",
              "      <td>0.780093</td>\n",
              "    </tr>\n",
              "    <tr>\n",
              "      <th>tier</th>\n",
              "      <td>0.281188</td>\n",
              "      <td>-0.131515</td>\n",
              "      <td>-0.042827</td>\n",
              "      <td>-0.281188</td>\n",
              "      <td>0.548810</td>\n",
              "      <td>0.780093</td>\n",
              "      <td>1.000000</td>\n",
              "    </tr>\n",
              "  </tbody>\n",
              "</table>\n",
              "</div>"
            ],
            "text/plain": [
              "                      orgyear       ctc  ctc_updated_year  \\\n",
              "orgyear              1.000000 -0.024789          0.213728   \n",
              "ctc                 -0.024789  1.000000          0.015539   \n",
              "ctc_updated_year     0.213728  0.015539          1.000000   \n",
              "years_of_Experience -1.000000  0.024789         -0.213728   \n",
              "designation          0.157225 -0.081753         -0.030726   \n",
              "class                0.239061 -0.109889         -0.026604   \n",
              "tier                 0.281188 -0.131515         -0.042827   \n",
              "\n",
              "                     years_of_Experience  designation     class      tier  \n",
              "orgyear                        -1.000000     0.157225  0.239061  0.281188  \n",
              "ctc                             0.024789    -0.081753 -0.109889 -0.131515  \n",
              "ctc_updated_year               -0.213728    -0.030726 -0.026604 -0.042827  \n",
              "years_of_Experience             1.000000    -0.157225 -0.239061 -0.281188  \n",
              "designation                    -0.157225     1.000000  0.662059  0.548810  \n",
              "class                          -0.239061     0.662059  1.000000  0.780093  \n",
              "tier                           -0.281188     0.548810  0.780093  1.000000  "
            ]
          },
          "execution_count": 409,
          "metadata": {},
          "output_type": "execute_result"
        }
      ],
      "source": [
        "# A broader look at correlation between the columns of dataframe\n",
        "df.corr()"
      ]
    },
    {
      "cell_type": "code",
      "execution_count": null,
      "id": "7216f8b7",
      "metadata": {
        "id": "7216f8b7",
        "outputId": "f5383bf1-9e96-4a5c-ffb1-6878fff363b4"
      },
      "outputs": [
        {
          "data": {
            "image/png": "[encoded data removed]",
            "text/plain": [
              "<Figure size 2160x720 with 2 Axes>"
            ]
          },
          "metadata": {
            "needs_background": "light"
          },
          "output_type": "display_data"
        }
      ],
      "source": [
        "# Correlation Plot above as a Heatmap -\n",
        "plt.figure(figsize=(30,10))\n",
        "sns.heatmap(df.corr(), cmap=\"YlGnBu\", annot=True)\n",
        "plt.show()"
      ]
    },
    {
      "cell_type": "code",
      "execution_count": null,
      "id": "0fa8c631",
      "metadata": {
        "id": "0fa8c631",
        "outputId": "f63d71a2-74b1-4efb-f501-3cb10ed14370"
      },
      "outputs": [
        {
          "data": {
            "image/png": "[encoded data removed]",
            "text/plain": [
              "<Figure size 1440x2160 with 12 Axes>"
            ]
          },
          "metadata": {
            "needs_background": "light"
          },
          "output_type": "display_data"
        }
      ],
      "source": [
        "#Boxplot for all categorical columns\n",
        "#Outliers detetion\n",
        "fig,axes =plt.subplots(6,2,figsize=(20, 30))\n",
        "main_cols=['designation', 'class','tier']\n",
        "cols=['orgyear', 'ctc', 'ctc_updated_year', 'years_of_Experience']\n",
        "x=0\n",
        "y=0\n",
        "for i in range(len(main_cols)*len(cols)):\n",
        "    if y==4:\n",
        "        y=0\n",
        "        x=x+1\n",
        "    sns.boxplot(df[main_cols[x]],df[cols[y]],ax=axes[i//2,i%2])\n",
        "    y=y+1"
      ]
    },
    {
      "cell_type": "markdown",
      "id": "7e041b18",
      "metadata": {
        "id": "7e041b18"
      },
      "source": [
        "***Observations***\n",
        "\n",
        "1) Many of Scaler learners falls in top or bottom category when it comes to designation, class or tier. This shows their is a room for upskilling for many learners who are in category 3.\n",
        "\n",
        "2) Orgyear which is employment start year is negatively correlated with years of experience.\n",
        "\n",
        "3) Designation, class and tier are highly correlated amongst each other.\n",
        "\n",
        "4) CTC is correlated with ctc_updated_year and negatively correlated with designation, class and tier.\n",
        "\n",
        "5) Years of Experience and CTC for designation 1, class 1 and tier 1 is more in comparison with other categories 2 and 3. The data has outliers.\n",
        "\n",
        "6) CTC updated year follows a similar pattern for designation, class and tier with median value being at 2020. The data has outliers."
      ]
    },
    {
      "cell_type": "markdown",
      "id": "5b63f031",
      "metadata": {
        "id": "5b63f031"
      },
      "source": [
        "### Encoding"
      ]
    },
    {
      "cell_type": "code",
      "execution_count": null,
      "id": "257728cf",
      "metadata": {
        "id": "257728cf"
      },
      "outputs": [],
      "source": [
        "#creating a copy of the dataframe to do further processing\n",
        "df_copy=df.copy()"
      ]
    },
    {
      "cell_type": "markdown",
      "id": "deb21fe5",
      "metadata": {
        "id": "deb21fe5"
      },
      "source": [
        "#### company_hash"
      ]
    },
    {
      "cell_type": "code",
      "execution_count": null,
      "id": "21d5e241",
      "metadata": {
        "id": "21d5e241",
        "outputId": "307870d6-d8c9-4016-e0f9-7085c0f467ad"
      },
      "outputs": [
        {
          "data": {
            "text/html": [
              "<div>\n",
              "<style scoped>\n",
              "    .dataframe tbody tr th:only-of-type {\n",
              "        vertical-align: middle;\n",
              "    }\n",
              "\n",
              "    .dataframe tbody tr th {\n",
              "        vertical-align: top;\n",
              "    }\n",
              "\n",
              "    .dataframe thead th {\n",
              "        text-align: right;\n",
              "    }\n",
              "</style>\n",
              "<table border=\"1\" class=\"dataframe\">\n",
              "  <thead>\n",
              "    <tr style=\"text-align: right;\">\n",
              "      <th></th>\n",
              "      <th>email_hash</th>\n",
              "      <th>orgyear</th>\n",
              "      <th>ctc</th>\n",
              "      <th>job_position</th>\n",
              "      <th>ctc_updated_year</th>\n",
              "      <th>years_of_Experience</th>\n",
              "      <th>designation</th>\n",
              "      <th>class</th>\n",
              "      <th>tier</th>\n",
              "      <th>company_hash_freq_encode</th>\n",
              "    </tr>\n",
              "  </thead>\n",
              "  <tbody>\n",
              "    <tr>\n",
              "      <th>2940</th>\n",
              "      <td>e80f7c9c26012bfdeca551e2b8642a93e45939d3d677c5...</td>\n",
              "      <td>2020.0</td>\n",
              "      <td>100000</td>\n",
              "      <td>other</td>\n",
              "      <td>2020.0</td>\n",
              "      <td>3.0</td>\n",
              "      <td>1</td>\n",
              "      <td>1</td>\n",
              "      <td>1</td>\n",
              "      <td>0.000005</td>\n",
              "    </tr>\n",
              "    <tr>\n",
              "      <th>197540</th>\n",
              "      <td>b3f3bb98cbca4b1ce5dfd5abb4e500ce6f6b66288a5202...</td>\n",
              "      <td>2017.0</td>\n",
              "      <td>300000</td>\n",
              "      <td>other</td>\n",
              "      <td>2020.0</td>\n",
              "      <td>6.0</td>\n",
              "      <td>1</td>\n",
              "      <td>1</td>\n",
              "      <td>1</td>\n",
              "      <td>0.000005</td>\n",
              "    </tr>\n",
              "    <tr>\n",
              "      <th>74429</th>\n",
              "      <td>819789ff4068fd5c8facf8a5074cdd2e1ff989c95ae02c...</td>\n",
              "      <td>2016.0</td>\n",
              "      <td>270000</td>\n",
              "      <td>android engineer</td>\n",
              "      <td>2019.0</td>\n",
              "      <td>7.0</td>\n",
              "      <td>1</td>\n",
              "      <td>1</td>\n",
              "      <td>3</td>\n",
              "      <td>0.000010</td>\n",
              "    </tr>\n",
              "    <tr>\n",
              "      <th>55241</th>\n",
              "      <td>e1e15fada844f35fcc33927343d0c80f55526b87c40eee...</td>\n",
              "      <td>2011.0</td>\n",
              "      <td>830000</td>\n",
              "      <td>frontend engineer</td>\n",
              "      <td>2019.0</td>\n",
              "      <td>12.0</td>\n",
              "      <td>1</td>\n",
              "      <td>1</td>\n",
              "      <td>1</td>\n",
              "      <td>0.000010</td>\n",
              "    </tr>\n",
              "    <tr>\n",
              "      <th>139865</th>\n",
              "      <td>4702229ffb6968c87b16fc57e730769e554184e322e111...</td>\n",
              "      <td>2019.0</td>\n",
              "      <td>1100000</td>\n",
              "      <td>backend engineer</td>\n",
              "      <td>2021.0</td>\n",
              "      <td>4.0</td>\n",
              "      <td>1</td>\n",
              "      <td>1</td>\n",
              "      <td>1</td>\n",
              "      <td>0.000010</td>\n",
              "    </tr>\n",
              "  </tbody>\n",
              "</table>\n",
              "</div>"
            ],
            "text/plain": [
              "                                               email_hash  orgyear      ctc  \\\n",
              "2940    e80f7c9c26012bfdeca551e2b8642a93e45939d3d677c5...   2020.0   100000   \n",
              "197540  b3f3bb98cbca4b1ce5dfd5abb4e500ce6f6b66288a5202...   2017.0   300000   \n",
              "74429   819789ff4068fd5c8facf8a5074cdd2e1ff989c95ae02c...   2016.0   270000   \n",
              "55241   e1e15fada844f35fcc33927343d0c80f55526b87c40eee...   2011.0   830000   \n",
              "139865  4702229ffb6968c87b16fc57e730769e554184e322e111...   2019.0  1100000   \n",
              "\n",
              "             job_position  ctc_updated_year  years_of_Experience  designation  \\\n",
              "2940                other            2020.0                  3.0            1   \n",
              "197540              other            2020.0                  6.0            1   \n",
              "74429    android engineer            2019.0                  7.0            1   \n",
              "55241   frontend engineer            2019.0                 12.0            1   \n",
              "139865   backend engineer            2021.0                  4.0            1   \n",
              "\n",
              "        class  tier  company_hash_freq_encode  \n",
              "2940        1     1                  0.000005  \n",
              "197540      1     1                  0.000005  \n",
              "74429       1     3                  0.000010  \n",
              "55241       1     1                  0.000010  \n",
              "139865      1     1                  0.000010  "
            ]
          },
          "execution_count": 413,
          "metadata": {},
          "output_type": "execute_result"
        }
      ],
      "source": [
        "#Frequency Encoding\n",
        "# grouping by frequency\n",
        "fq = df_copy.groupby('company_hash').size()/len(df_copy)\n",
        "# mapping values to dataframe\n",
        "df_copy.loc[:, \"{}_freq_encode\".format('company_hash')] = df_copy['company_hash'].map(fq)\n",
        "# drop original column.\n",
        "df_copy = df_copy.drop(['company_hash'], axis=1)\n",
        "df_copy.head()"
      ]
    },
    {
      "cell_type": "markdown",
      "id": "e3bbbf79",
      "metadata": {
        "id": "e3bbbf79"
      },
      "source": [
        "#### email_hash"
      ]
    },
    {
      "cell_type": "code",
      "execution_count": null,
      "id": "ab0762c1",
      "metadata": {
        "id": "ab0762c1",
        "outputId": "9ff3dd2d-6c53-4ce3-bb83-445b7734ec5d"
      },
      "outputs": [
        {
          "data": {
            "text/html": [
              "<div>\n",
              "<style scoped>\n",
              "    .dataframe tbody tr th:only-of-type {\n",
              "        vertical-align: middle;\n",
              "    }\n",
              "\n",
              "    .dataframe tbody tr th {\n",
              "        vertical-align: top;\n",
              "    }\n",
              "\n",
              "    .dataframe thead th {\n",
              "        text-align: right;\n",
              "    }\n",
              "</style>\n",
              "<table border=\"1\" class=\"dataframe\">\n",
              "  <thead>\n",
              "    <tr style=\"text-align: right;\">\n",
              "      <th></th>\n",
              "      <th>orgyear</th>\n",
              "      <th>ctc</th>\n",
              "      <th>job_position</th>\n",
              "      <th>ctc_updated_year</th>\n",
              "      <th>years_of_Experience</th>\n",
              "      <th>designation</th>\n",
              "      <th>class</th>\n",
              "      <th>tier</th>\n",
              "      <th>company_hash_freq_encode</th>\n",
              "      <th>email_hash_freq_encode</th>\n",
              "    </tr>\n",
              "  </thead>\n",
              "  <tbody>\n",
              "    <tr>\n",
              "      <th>2940</th>\n",
              "      <td>2020.0</td>\n",
              "      <td>100000</td>\n",
              "      <td>other</td>\n",
              "      <td>2020.0</td>\n",
              "      <td>3.0</td>\n",
              "      <td>1</td>\n",
              "      <td>1</td>\n",
              "      <td>1</td>\n",
              "      <td>0.000005</td>\n",
              "      <td>0.000005</td>\n",
              "    </tr>\n",
              "    <tr>\n",
              "      <th>197540</th>\n",
              "      <td>2017.0</td>\n",
              "      <td>300000</td>\n",
              "      <td>other</td>\n",
              "      <td>2020.0</td>\n",
              "      <td>6.0</td>\n",
              "      <td>1</td>\n",
              "      <td>1</td>\n",
              "      <td>1</td>\n",
              "      <td>0.000005</td>\n",
              "      <td>0.000005</td>\n",
              "    </tr>\n",
              "    <tr>\n",
              "      <th>74429</th>\n",
              "      <td>2016.0</td>\n",
              "      <td>270000</td>\n",
              "      <td>android engineer</td>\n",
              "      <td>2019.0</td>\n",
              "      <td>7.0</td>\n",
              "      <td>1</td>\n",
              "      <td>1</td>\n",
              "      <td>3</td>\n",
              "      <td>0.000010</td>\n",
              "      <td>0.000005</td>\n",
              "    </tr>\n",
              "    <tr>\n",
              "      <th>55241</th>\n",
              "      <td>2011.0</td>\n",
              "      <td>830000</td>\n",
              "      <td>frontend engineer</td>\n",
              "      <td>2019.0</td>\n",
              "      <td>12.0</td>\n",
              "      <td>1</td>\n",
              "      <td>1</td>\n",
              "      <td>1</td>\n",
              "      <td>0.000010</td>\n",
              "      <td>0.000005</td>\n",
              "    </tr>\n",
              "    <tr>\n",
              "      <th>139865</th>\n",
              "      <td>2019.0</td>\n",
              "      <td>1100000</td>\n",
              "      <td>backend engineer</td>\n",
              "      <td>2021.0</td>\n",
              "      <td>4.0</td>\n",
              "      <td>1</td>\n",
              "      <td>1</td>\n",
              "      <td>1</td>\n",
              "      <td>0.000010</td>\n",
              "      <td>0.000010</td>\n",
              "    </tr>\n",
              "  </tbody>\n",
              "</table>\n",
              "</div>"
            ],
            "text/plain": [
              "        orgyear      ctc       job_position  ctc_updated_year  \\\n",
              "2940     2020.0   100000              other            2020.0   \n",
              "197540   2017.0   300000              other            2020.0   \n",
              "74429    2016.0   270000   android engineer            2019.0   \n",
              "55241    2011.0   830000  frontend engineer            2019.0   \n",
              "139865   2019.0  1100000   backend engineer            2021.0   \n",
              "\n",
              "        years_of_Experience  designation  class  tier  \\\n",
              "2940                    3.0            1      1     1   \n",
              "197540                  6.0            1      1     1   \n",
              "74429                   7.0            1      1     3   \n",
              "55241                  12.0            1      1     1   \n",
              "139865                  4.0            1      1     1   \n",
              "\n",
              "        company_hash_freq_encode  email_hash_freq_encode  \n",
              "2940                    0.000005                0.000005  \n",
              "197540                  0.000005                0.000005  \n",
              "74429                   0.000010                0.000005  \n",
              "55241                   0.000010                0.000005  \n",
              "139865                  0.000010                0.000010  "
            ]
          },
          "execution_count": 414,
          "metadata": {},
          "output_type": "execute_result"
        }
      ],
      "source": [
        "#Frequency Encoding\n",
        "# grouping by frequency\n",
        "fq = df_copy.groupby('email_hash').size()/len(df_copy)\n",
        "# mapping values to dataframe\n",
        "df_copy.loc[:, \"{}_freq_encode\".format('email_hash')] = df_copy['email_hash'].map(fq)\n",
        "# drop original column.\n",
        "df_copy = df_copy.drop(['email_hash'], axis=1)\n",
        "df_copy.head()"
      ]
    },
    {
      "cell_type": "markdown",
      "id": "968dfb77",
      "metadata": {
        "id": "968dfb77"
      },
      "source": [
        "#### job_position"
      ]
    },
    {
      "cell_type": "code",
      "execution_count": null,
      "id": "23c3108c",
      "metadata": {
        "id": "23c3108c",
        "outputId": "eedf2c1e-4feb-41e5-e04f-080ddc4a1880"
      },
      "outputs": [
        {
          "data": {
            "text/html": [
              "<div>\n",
              "<style scoped>\n",
              "    .dataframe tbody tr th:only-of-type {\n",
              "        vertical-align: middle;\n",
              "    }\n",
              "\n",
              "    .dataframe tbody tr th {\n",
              "        vertical-align: top;\n",
              "    }\n",
              "\n",
              "    .dataframe thead th {\n",
              "        text-align: right;\n",
              "    }\n",
              "</style>\n",
              "<table border=\"1\" class=\"dataframe\">\n",
              "  <thead>\n",
              "    <tr style=\"text-align: right;\">\n",
              "      <th></th>\n",
              "      <th>orgyear</th>\n",
              "      <th>ctc</th>\n",
              "      <th>ctc_updated_year</th>\n",
              "      <th>years_of_Experience</th>\n",
              "      <th>designation</th>\n",
              "      <th>class</th>\n",
              "      <th>tier</th>\n",
              "      <th>company_hash_freq_encode</th>\n",
              "      <th>email_hash_freq_encode</th>\n",
              "      <th>job_position_freq_encode</th>\n",
              "    </tr>\n",
              "  </thead>\n",
              "  <tbody>\n",
              "    <tr>\n",
              "      <th>2940</th>\n",
              "      <td>2020.0</td>\n",
              "      <td>100000</td>\n",
              "      <td>2020.0</td>\n",
              "      <td>3.0</td>\n",
              "      <td>1</td>\n",
              "      <td>1</td>\n",
              "      <td>1</td>\n",
              "      <td>0.000005</td>\n",
              "      <td>0.000005</td>\n",
              "      <td>0.329032</td>\n",
              "    </tr>\n",
              "    <tr>\n",
              "      <th>197540</th>\n",
              "      <td>2017.0</td>\n",
              "      <td>300000</td>\n",
              "      <td>2020.0</td>\n",
              "      <td>6.0</td>\n",
              "      <td>1</td>\n",
              "      <td>1</td>\n",
              "      <td>1</td>\n",
              "      <td>0.000005</td>\n",
              "      <td>0.000005</td>\n",
              "      <td>0.329032</td>\n",
              "    </tr>\n",
              "    <tr>\n",
              "      <th>74429</th>\n",
              "      <td>2016.0</td>\n",
              "      <td>270000</td>\n",
              "      <td>2019.0</td>\n",
              "      <td>7.0</td>\n",
              "      <td>1</td>\n",
              "      <td>1</td>\n",
              "      <td>3</td>\n",
              "      <td>0.000010</td>\n",
              "      <td>0.000005</td>\n",
              "      <td>0.026606</td>\n",
              "    </tr>\n",
              "    <tr>\n",
              "      <th>55241</th>\n",
              "      <td>2011.0</td>\n",
              "      <td>830000</td>\n",
              "      <td>2019.0</td>\n",
              "      <td>12.0</td>\n",
              "      <td>1</td>\n",
              "      <td>1</td>\n",
              "      <td>1</td>\n",
              "      <td>0.000010</td>\n",
              "      <td>0.000005</td>\n",
              "      <td>0.051726</td>\n",
              "    </tr>\n",
              "    <tr>\n",
              "      <th>139865</th>\n",
              "      <td>2019.0</td>\n",
              "      <td>1100000</td>\n",
              "      <td>2021.0</td>\n",
              "      <td>4.0</td>\n",
              "      <td>1</td>\n",
              "      <td>1</td>\n",
              "      <td>1</td>\n",
              "      <td>0.000010</td>\n",
              "      <td>0.000010</td>\n",
              "      <td>0.216302</td>\n",
              "    </tr>\n",
              "  </tbody>\n",
              "</table>\n",
              "</div>"
            ],
            "text/plain": [
              "        orgyear      ctc  ctc_updated_year  years_of_Experience  designation  \\\n",
              "2940     2020.0   100000            2020.0                  3.0            1   \n",
              "197540   2017.0   300000            2020.0                  6.0            1   \n",
              "74429    2016.0   270000            2019.0                  7.0            1   \n",
              "55241    2011.0   830000            2019.0                 12.0            1   \n",
              "139865   2019.0  1100000            2021.0                  4.0            1   \n",
              "\n",
              "        class  tier  company_hash_freq_encode  email_hash_freq_encode  \\\n",
              "2940        1     1                  0.000005                0.000005   \n",
              "197540      1     1                  0.000005                0.000005   \n",
              "74429       1     3                  0.000010                0.000005   \n",
              "55241       1     1                  0.000010                0.000005   \n",
              "139865      1     1                  0.000010                0.000010   \n",
              "\n",
              "        job_position_freq_encode  \n",
              "2940                    0.329032  \n",
              "197540                  0.329032  \n",
              "74429                   0.026606  \n",
              "55241                   0.051726  \n",
              "139865                  0.216302  "
            ]
          },
          "execution_count": 415,
          "metadata": {},
          "output_type": "execute_result"
        }
      ],
      "source": [
        "#Frequency Encoding\n",
        "# grouping by frequency\n",
        "fq = df_copy.groupby('job_position').size()/len(df_copy)\n",
        "# mapping values to dataframe\n",
        "df_copy.loc[:, \"{}_freq_encode\".format('job_position')] = df_copy['job_position'].map(fq)\n",
        "# drop original column.\n",
        "df_copy = df_copy.drop(['job_position'], axis=1)\n",
        "df_copy.head()"
      ]
    },
    {
      "cell_type": "code",
      "execution_count": null,
      "id": "0cd6b613",
      "metadata": {
        "id": "0cd6b613"
      },
      "outputs": [],
      "source": [
        "# creating a variable to retain names of new columns\n",
        "df_copy_columns=df_copy.columns"
      ]
    },
    {
      "cell_type": "markdown",
      "id": "9ad37558",
      "metadata": {
        "id": "9ad37558"
      },
      "source": [
        "### Standardization"
      ]
    },
    {
      "cell_type": "code",
      "execution_count": null,
      "id": "2e3ec415",
      "metadata": {
        "id": "2e3ec415"
      },
      "outputs": [],
      "source": [
        "# standardizing the data\n",
        "sc_x = StandardScaler()\n",
        "df_copy = sc_x.fit_transform(df_copy)"
      ]
    },
    {
      "cell_type": "markdown",
      "id": "e91eb96c",
      "metadata": {
        "id": "e91eb96c"
      },
      "source": [
        "### Unsupervised Learning - Clustering\n"
      ]
    },
    {
      "cell_type": "markdown",
      "id": "705a84f6",
      "metadata": {
        "id": "705a84f6"
      },
      "source": [
        "#### Checking clustering tendency - Hopkins Test"
      ]
    },
    {
      "cell_type": "code",
      "execution_count": null,
      "id": "661ea56d",
      "metadata": {
        "id": "661ea56d",
        "outputId": "bc6a3950-e294-40f3-d1b6-956b2d1def89"
      },
      "outputs": [
        {
          "data": {
            "text/plain": [
              "0.004917999435947349"
            ]
          },
          "execution_count": 418,
          "metadata": {},
          "output_type": "execute_result"
        }
      ],
      "source": [
        "hopkins(df_copy,200)"
      ]
    },
    {
      "cell_type": "markdown",
      "id": "4ac466d2",
      "metadata": {
        "id": "4ac466d2"
      },
      "source": [
        "A score near 0 shows high clustering tendency."
      ]
    },
    {
      "cell_type": "markdown",
      "id": "cb8ec667",
      "metadata": {
        "id": "cb8ec667"
      },
      "source": [
        "#### Elbow method"
      ]
    },
    {
      "cell_type": "code",
      "execution_count": null,
      "id": "2ae5f00c",
      "metadata": {
        "id": "2ae5f00c"
      },
      "outputs": [],
      "source": [
        "# Representing the dataframe with new variable X\n",
        "X = df_copy"
      ]
    },
    {
      "cell_type": "markdown",
      "id": "58ff7744",
      "metadata": {
        "id": "58ff7744"
      },
      "source": [
        "Distortion and Inertia are two metrics which is used when it comes to Elbow Method implementation. Below we calculate both of them and finalize on the best K for the K-means algorithm.\n",
        "\n",
        "Distortion: It is calculated as the average of the squared distances from the cluster centers of the respective clusters. Typically, the Euclidean distance metric is used.\n",
        "\n",
        "Inertia: It is the sum of squared distances of samples to their closest cluster center."
      ]
    },
    {
      "cell_type": "code",
      "execution_count": null,
      "id": "207469b6",
      "metadata": {
        "id": "207469b6"
      },
      "outputs": [],
      "source": [
        "# Building the clustering model and calculating the values of the Distortion and Inertia\n",
        "distortions = []\n",
        "inertias = []\n",
        "mapping1 = {}\n",
        "mapping2 = {}\n",
        "K = range(1, 10)\n",
        "\n",
        "for k in K:\n",
        "    # Building and fitting the model\n",
        "    kmeanModel = KMeans(n_clusters=k).fit(X)\n",
        "    kmeanModel.fit(X)\n",
        "\n",
        "    distortions.append(sum(np.min(cdist(X, kmeanModel.cluster_centers_,\n",
        "                                        'euclidean'), axis=1)) / X.shape[0])\n",
        "    inertias.append(kmeanModel.inertia_)\n",
        "\n",
        "    mapping1[k] = sum(np.min(cdist(X, kmeanModel.cluster_centers_,\n",
        "                                   'euclidean'), axis=1)) / X.shape[0]\n",
        "    mapping2[k] = kmeanModel.inertia_"
      ]
    },
    {
      "cell_type": "code",
      "execution_count": null,
      "id": "bf879040",
      "metadata": {
        "id": "bf879040",
        "outputId": "398ddac9-ea31-4831-d647-49f6f45a7868"
      },
      "outputs": [
        {
          "name": "stdout",
          "output_type": "stream",
          "text": [
            "1 : 2.9284237520937135\n",
            "2 : 2.5157200376727364\n",
            "3 : 2.344094768848065\n",
            "4 : 2.297104568933588\n",
            "5 : 2.203234466631577\n",
            "6 : 2.1069272912171977\n",
            "7 : 2.0234214381915687\n",
            "8 : 1.9698100746481217\n",
            "9 : 1.9016039128350861\n"
          ]
        }
      ],
      "source": [
        "# different values of Distortion\n",
        "for key, val in mapping1.items():\n",
        "    print(f'{key} : {val}')"
      ]
    },
    {
      "cell_type": "code",
      "execution_count": null,
      "id": "d0495f98",
      "metadata": {
        "id": "d0495f98",
        "outputId": "cc0e9dde-2b17-4c00-ccfb-29c6b22a1e72"
      },
      "outputs": [
        {
          "data": {
            "image/png": "[encoded data removed]",
            "text/plain": [
              "<Figure size 432x288 with 1 Axes>"
            ]
          },
          "metadata": {
            "needs_background": "light"
          },
          "output_type": "display_data"
        }
      ],
      "source": [
        "# Visualizing Elbow Method using Distortion\n",
        "plt.plot(K, distortions, 'bx-')\n",
        "plt.xlabel('Values of K')\n",
        "plt.ylabel('Distortion')\n",
        "plt.title('The Elbow Method using Distortion')\n",
        "plt.show()"
      ]
    },
    {
      "cell_type": "code",
      "execution_count": null,
      "id": "7276d15f",
      "metadata": {
        "id": "7276d15f",
        "outputId": "be9028d4-8836-4a89-b40f-7ae1a960a85d"
      },
      "outputs": [
        {
          "name": "stdout",
          "output_type": "stream",
          "text": [
            "1 : 2012329.999999999\n",
            "2 : 1575096.5226300769\n",
            "3 : 1375562.0034105673\n",
            "4 : 1211574.4878628831\n",
            "5 : 1097485.3434713774\n",
            "6 : 1017541.3585555032\n",
            "7 : 944839.6342226539\n",
            "8 : 878175.5184835786\n",
            "9 : 825234.2863061195\n"
          ]
        }
      ],
      "source": [
        "# different values of Inertia\n",
        "for key, val in mapping2.items():\n",
        "    print(f'{key} : {val}')"
      ]
    },
    {
      "cell_type": "code",
      "execution_count": null,
      "id": "e68184ee",
      "metadata": {
        "id": "e68184ee",
        "outputId": "4229e70c-2e2f-4af2-b34c-944312cbede2"
      },
      "outputs": [
        {
          "data": {
            "image/png": "[encoded data removed]",
            "text/plain": [
              "<Figure size 432x288 with 1 Axes>"
            ]
          },
          "metadata": {
            "needs_background": "light"
          },
          "output_type": "display_data"
        }
      ],
      "source": [
        "# Visualizing Elbow Method using Inertia\n",
        "plt.plot(K, inertias, 'bx-')\n",
        "plt.xlabel('Values of K')\n",
        "plt.ylabel('Inertia')\n",
        "plt.title('The Elbow Method using Inertia')\n",
        "plt.show()"
      ]
    },
    {
      "cell_type": "markdown",
      "id": "195e3384",
      "metadata": {
        "id": "195e3384"
      },
      "source": [
        "For the given dataset, we can conclude that the optimal number of clusters for the data is 2 on the basis of Elbow Method."
      ]
    },
    {
      "cell_type": "markdown",
      "id": "e91a4fca",
      "metadata": {
        "id": "e91a4fca"
      },
      "source": [
        "#### K-means clustering"
      ]
    },
    {
      "cell_type": "code",
      "execution_count": null,
      "id": "44cb1a05",
      "metadata": {
        "id": "44cb1a05",
        "outputId": "5ea0f850-dd1f-4407-b9c0-43f0c4697f21"
      },
      "outputs": [
        {
          "data": {
            "text/html": [
              "<div>\n",
              "<style scoped>\n",
              "    .dataframe tbody tr th:only-of-type {\n",
              "        vertical-align: middle;\n",
              "    }\n",
              "\n",
              "    .dataframe tbody tr th {\n",
              "        vertical-align: top;\n",
              "    }\n",
              "\n",
              "    .dataframe thead th {\n",
              "        text-align: right;\n",
              "    }\n",
              "</style>\n",
              "<table border=\"1\" class=\"dataframe\">\n",
              "  <thead>\n",
              "    <tr style=\"text-align: right;\">\n",
              "      <th></th>\n",
              "      <th>company_hash</th>\n",
              "      <th>email_hash</th>\n",
              "      <th>orgyear</th>\n",
              "      <th>ctc</th>\n",
              "      <th>job_position</th>\n",
              "      <th>ctc_updated_year</th>\n",
              "      <th>years_of_Experience</th>\n",
              "      <th>designation</th>\n",
              "      <th>class</th>\n",
              "      <th>tier</th>\n",
              "      <th>label</th>\n",
              "    </tr>\n",
              "  </thead>\n",
              "  <tbody>\n",
              "    <tr>\n",
              "      <th>2940</th>\n",
              "      <td>0</td>\n",
              "      <td>e80f7c9c26012bfdeca551e2b8642a93e45939d3d677c5...</td>\n",
              "      <td>2020.0</td>\n",
              "      <td>100000</td>\n",
              "      <td>other</td>\n",
              "      <td>2020.0</td>\n",
              "      <td>3.0</td>\n",
              "      <td>1</td>\n",
              "      <td>1</td>\n",
              "      <td>1</td>\n",
              "      <td>1</td>\n",
              "    </tr>\n",
              "    <tr>\n",
              "      <th>197540</th>\n",
              "      <td>0000</td>\n",
              "      <td>b3f3bb98cbca4b1ce5dfd5abb4e500ce6f6b66288a5202...</td>\n",
              "      <td>2017.0</td>\n",
              "      <td>300000</td>\n",
              "      <td>other</td>\n",
              "      <td>2020.0</td>\n",
              "      <td>6.0</td>\n",
              "      <td>1</td>\n",
              "      <td>1</td>\n",
              "      <td>1</td>\n",
              "      <td>1</td>\n",
              "    </tr>\n",
              "    <tr>\n",
              "      <th>74429</th>\n",
              "      <td>01 ojztqsj</td>\n",
              "      <td>819789ff4068fd5c8facf8a5074cdd2e1ff989c95ae02c...</td>\n",
              "      <td>2016.0</td>\n",
              "      <td>270000</td>\n",
              "      <td>android engineer</td>\n",
              "      <td>2019.0</td>\n",
              "      <td>7.0</td>\n",
              "      <td>1</td>\n",
              "      <td>1</td>\n",
              "      <td>3</td>\n",
              "      <td>1</td>\n",
              "    </tr>\n",
              "    <tr>\n",
              "      <th>55241</th>\n",
              "      <td>01 ojztqsj</td>\n",
              "      <td>e1e15fada844f35fcc33927343d0c80f55526b87c40eee...</td>\n",
              "      <td>2011.0</td>\n",
              "      <td>830000</td>\n",
              "      <td>frontend engineer</td>\n",
              "      <td>2019.0</td>\n",
              "      <td>12.0</td>\n",
              "      <td>1</td>\n",
              "      <td>1</td>\n",
              "      <td>1</td>\n",
              "      <td>1</td>\n",
              "    </tr>\n",
              "    <tr>\n",
              "      <th>139865</th>\n",
              "      <td>05mz exzytvrny uqxcvnt rxbxnta</td>\n",
              "      <td>4702229ffb6968c87b16fc57e730769e554184e322e111...</td>\n",
              "      <td>2019.0</td>\n",
              "      <td>1100000</td>\n",
              "      <td>backend engineer</td>\n",
              "      <td>2021.0</td>\n",
              "      <td>4.0</td>\n",
              "      <td>1</td>\n",
              "      <td>1</td>\n",
              "      <td>1</td>\n",
              "      <td>1</td>\n",
              "    </tr>\n",
              "  </tbody>\n",
              "</table>\n",
              "</div>"
            ],
            "text/plain": [
              "                          company_hash  \\\n",
              "2940                                 0   \n",
              "197540                            0000   \n",
              "74429                       01 ojztqsj   \n",
              "55241                       01 ojztqsj   \n",
              "139865  05mz exzytvrny uqxcvnt rxbxnta   \n",
              "\n",
              "                                               email_hash  orgyear      ctc  \\\n",
              "2940    e80f7c9c26012bfdeca551e2b8642a93e45939d3d677c5...   2020.0   100000   \n",
              "197540  b3f3bb98cbca4b1ce5dfd5abb4e500ce6f6b66288a5202...   2017.0   300000   \n",
              "74429   819789ff4068fd5c8facf8a5074cdd2e1ff989c95ae02c...   2016.0   270000   \n",
              "55241   e1e15fada844f35fcc33927343d0c80f55526b87c40eee...   2011.0   830000   \n",
              "139865  4702229ffb6968c87b16fc57e730769e554184e322e111...   2019.0  1100000   \n",
              "\n",
              "             job_position  ctc_updated_year  years_of_Experience  designation  \\\n",
              "2940                other            2020.0                  3.0            1   \n",
              "197540              other            2020.0                  6.0            1   \n",
              "74429    android engineer            2019.0                  7.0            1   \n",
              "55241   frontend engineer            2019.0                 12.0            1   \n",
              "139865   backend engineer            2021.0                  4.0            1   \n",
              "\n",
              "        class  tier  label  \n",
              "2940        1     1      1  \n",
              "197540      1     1      1  \n",
              "74429       1     3      1  \n",
              "55241       1     1      1  \n",
              "139865      1     1      1  "
            ]
          },
          "execution_count": 425,
          "metadata": {},
          "output_type": "execute_result"
        }
      ],
      "source": [
        "# Implementing K-means clustering for 2 clusters and creating the cluster label\n",
        "km = KMeans(n_clusters=2)\n",
        "km.fit(X)\n",
        "predict=km.predict(X)\n",
        "df_temp = df.copy()\n",
        "df_temp['label']=pd.Series(predict,index=df_temp.index)\n",
        "df_temp.head()"
      ]
    },
    {
      "cell_type": "code",
      "execution_count": null,
      "id": "bcb2380f",
      "metadata": {
        "id": "bcb2380f",
        "outputId": "956dfeeb-da75-4613-aa67-deef83011561"
      },
      "outputs": [
        {
          "data": {
            "text/plain": [
              "1    113980\n",
              "0     87253\n",
              "Name: label, dtype: int64"
            ]
          },
          "execution_count": 426,
          "metadata": {},
          "output_type": "execute_result"
        }
      ],
      "source": [
        "# count of different clusters based on K-means clustering\n",
        "df_temp['label'].value_counts()"
      ]
    },
    {
      "cell_type": "code",
      "execution_count": null,
      "id": "02a09e8f",
      "metadata": {
        "id": "02a09e8f"
      },
      "outputs": [],
      "source": [
        "# converting label column as categorical column\n",
        "df_temp['label'] = df_temp['label'].astype('category')"
      ]
    },
    {
      "cell_type": "code",
      "execution_count": null,
      "id": "581abfec",
      "metadata": {
        "id": "581abfec",
        "outputId": "1a8cd007-7550-4790-bb7b-8b935013cf27"
      },
      "outputs": [
        {
          "data": {
            "image/png": "[encoded data removed]",
            "text/plain": [
              "<Figure size 1440x1440 with 8 Axes>"
            ]
          },
          "metadata": {
            "needs_background": "light"
          },
          "output_type": "display_data"
        }
      ],
      "source": [
        "# countplot for categorical columns\n",
        "fig,axes=plt.subplots(4,2,figsize=(20, 20))\n",
        "cols=['orgyear', 'ctc', 'ctc_updated_year', 'years_of_Experience', 'designation', 'class', 'tier']\n",
        "for x in range(len(cols)):\n",
        "    p=sns.boxplot(df_temp[cols[x]],df_temp['label'],ax=axes[x//2,x%2])"
      ]
    },
    {
      "cell_type": "code",
      "execution_count": null,
      "id": "bfca6bec",
      "metadata": {
        "id": "bfca6bec",
        "outputId": "bd152467-c559-415f-ae01-7ebea8f06d77"
      },
      "outputs": [
        {
          "data": {
            "image/png": "[encoded data removed]",
            "text/plain": [
              "<Figure size 484x432 with 1 Axes>"
            ]
          },
          "metadata": {
            "needs_background": "light"
          },
          "output_type": "display_data"
        }
      ],
      "source": [
        "# Visualizing clusters in lower dimensions using T-SNE algorithm\n",
        "data_20000 = X[0:20000, :]\n",
        "labels_20000 = df_temp['label'][0:20000]\n",
        "model = TSNE(n_components = 2, random_state = 0)\n",
        "tsne_data = model.fit_transform(data_20000)\n",
        "tsne_data = np.vstack((tsne_data.T, labels_20000)).T\n",
        "tsne_df = pd.DataFrame(data = tsne_data,\n",
        "     columns =(\"Dim_1\", \"Dim_2\", \"label\"))\n",
        "\n",
        "# Plotting the result of tsne\n",
        "sns.FacetGrid(tsne_df, hue =\"label\", size = 6).map(\n",
        "       plt.scatter, 'Dim_1', 'Dim_2').add_legend()\n",
        "\n",
        "plt.show()"
      ]
    },
    {
      "cell_type": "markdown",
      "id": "1e25d2d1",
      "metadata": {
        "id": "1e25d2d1"
      },
      "source": [
        "***Observations***\n",
        "\n",
        "1) K-means clustering is able to cluster out the relevant groups within the dataset.\n",
        "\n",
        "2) Visualization of clusters is not completely satisfactory but it is giving us some perspective about the different learner groups.\n",
        "\n",
        "3) The groups of different learners are loosely dense and not tight.\n",
        "\n",
        "4) As per clusters, one group is more experienced then the other group learners.\n",
        "\n",
        "5) Average CTC of one of the group is more then the other one.\n",
        "\n",
        "6) CTC updated year follows same pattern for both the group learners.\n",
        "\n",
        "7) Designation and Class for one of the group has learners from all levels but the other group contains majorly from level 1.\n",
        "\n",
        "8) For tier, one of the group has learners from all levels but the other group contains majorly from level 3."
      ]
    },
    {
      "cell_type": "markdown",
      "id": "a6f64a16",
      "metadata": {
        "id": "a6f64a16"
      },
      "source": [
        "#### Hierarchical Clustering"
      ]
    },
    {
      "cell_type": "code",
      "execution_count": null,
      "id": "b50d3f11",
      "metadata": {
        "scrolled": false,
        "id": "b50d3f11",
        "outputId": "4002d7c2-f85e-47e4-9b3b-f4ea84596bfc"
      },
      "outputs": [
        {
          "data": {
            "image/png": "[encoded data removed]",
            "text/plain": [
              "<Figure size 1440x720 with 1 Axes>"
            ]
          },
          "metadata": {
            "needs_background": "light"
          },
          "output_type": "display_data"
        }
      ],
      "source": [
        "# Implementing Hierarchical clustering for 2 clusters\n",
        "model = AgglomerativeClustering(n_clusters=2)\n",
        "model = model.fit(X[0:20000, :])\n",
        "Z = hierarchy.linkage(model.children_, 'ward')\n",
        "plt.figure(figsize=(20,10))\n",
        "\n",
        "# Visualizing Hierarchical clustering for 2 clusters\n",
        "dn = hierarchy.dendrogram(Z)"
      ]
    },
    {
      "cell_type": "markdown",
      "id": "2d2c32a3",
      "metadata": {
        "id": "2d2c32a3"
      },
      "source": [
        "***Observations***\n",
        "\n",
        "1) Ward linkage is used to implement hierarchical linkage.\n",
        "\n",
        "2) The three clusters are clearly visible from the dendogram.\n",
        "\n",
        "3) This hierarchical clustering implementation is on a sample data as implementation on the whole dataset was taking"
      ]
    },
    {
      "cell_type": "markdown",
      "id": "50d94790",
      "metadata": {
        "id": "50d94790"
      },
      "source": [
        "### Actionable Insights & Recommendations\n",
        "\n",
        "1) Many of the scaler learners are in category 3 for designation or class or tier so they have a genuine scope of upskilling.\n",
        "\n",
        "2) Many of the scaler learners are in category 1 for designation or class or tier so they have a scope of upskilling and switching either the job position or company.\n",
        "\n",
        "3) More experience in the industry generally tends to get you higher ctc.\n",
        "\n",
        "4) CTC hike happens every year for every individual. For some hike is more and for some hike is less which creates the difference in CTC package despite being at same position.\n",
        "\n",
        "5) More the years of experience tends to up a learner's level in designation, class and tier.\n",
        "\n",
        "6) Scaler should keep suggesting its learners about the opportunities within the same company as well as in another company on the same position.\n",
        "\n",
        "7) Scaler should showcase this data on the learners dashboard with proper insights so as to motivate learner to work hard towards his/her goal.\n",
        "\n",
        "8) Scaler should try to acquire more customers by giving training to its business development associate about the insights analyzed from the data so that BDAs can explain upskilling chances to the new customers."
      ]
    }
  ],
  "metadata": {
    "kernelspec": {
      "display_name": "Python 3 (ipykernel)",
      "language": "python",
      "name": "python3"
    },
    "language_info": {
      "codemirror_mode": {
        "name": "ipython",
        "version": 3
      },
      "file_extension": ".py",
      "mimetype": "text/x-python",
      "name": "python",
      "nbconvert_exporter": "python",
      "pygments_lexer": "ipython3",
      "version": "3.9.7"
    },
    "colab": {
      "provenance": [],
      "include_colab_link": true
    }
  },
  "nbformat": 4,
  "nbformat_minor": 5
}